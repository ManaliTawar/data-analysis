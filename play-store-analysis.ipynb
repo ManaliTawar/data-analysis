{
 "cells":[
  {
   "cell_type":"code",
   "source":[
    "# Import all the required libraries\n",
    "\n",
    "import pandas as pd\n",
    "import seaborn as sns\n",
    "import matplotlib.pyplot as plt\n",
    "import numpy as np\n",
    "import plotly.express as px"
   ],
   "execution_count":2,
   "outputs":[
    
   ],
   "metadata":{
    "datalore":{
     "node_id":"ttdUNCj2MwAn98FVtEDYOg",
     "type":"CODE",
     "hide_input_from_viewers":false,
     "hide_output_from_viewers":false
    }
   }
  },
  {
   "cell_type":"code",
   "source":[
    "# read playstore applications data from csv\n",
    "\n",
    "apps = pd.read_csv('googleplaystore.csv')"
   ],
   "execution_count":3,
   "outputs":[
    
   ],
   "metadata":{
    "datalore":{
     "node_id":"CuuYiC0VXMeBRy5VSWvERZ",
     "type":"CODE",
     "hide_input_from_viewers":false,
     "hide_output_from_viewers":false
    }
   }
  },
  {
   "cell_type":"code",
   "source":[
    "apps"
   ],
   "execution_count":4,
   "outputs":[
    {
     "data":{
      "text\/html":[
       "<div>\n",
       "<style scoped>\n",
       "    .dataframe tbody tr th:only-of-type {\n",
       "        vertical-align: middle;\n",
       "    }\n",
       "\n",
       "    .dataframe tbody tr th {\n",
       "        vertical-align: top;\n",
       "    }\n",
       "\n",
       "    .dataframe thead th {\n",
       "        text-align: right;\n",
       "    }\n",
       "<\/style>\n",
       "<table border=\"1\" class=\"dataframe\">\n",
       "  <thead>\n",
       "    <tr style=\"text-align: right;\">\n",
       "      <th><\/th>\n",
       "      <th>App<\/th>\n",
       "      <th>Category<\/th>\n",
       "      <th>Rating<\/th>\n",
       "      <th>Reviews<\/th>\n",
       "      <th>Size<\/th>\n",
       "      <th>Installs<\/th>\n",
       "      <th>Type<\/th>\n",
       "      <th>Price<\/th>\n",
       "      <th>Content Rating<\/th>\n",
       "      <th>Genres<\/th>\n",
       "      <th>Last Updated<\/th>\n",
       "      <th>Current Ver<\/th>\n",
       "      <th>Android Ver<\/th>\n",
       "    <\/tr>\n",
       "  <\/thead>\n",
       "  <tbody>\n",
       "    <tr>\n",
       "      <th>0<\/th>\n",
       "      <td>Photo Editor &amp; Candy Camera &amp; Grid &amp; ScrapBook<\/td>\n",
       "      <td>ART_AND_DESIGN<\/td>\n",
       "      <td>4.1<\/td>\n",
       "      <td>159<\/td>\n",
       "      <td>19M<\/td>\n",
       "      <td>10,000+<\/td>\n",
       "      <td>Free<\/td>\n",
       "      <td>0<\/td>\n",
       "      <td>Everyone<\/td>\n",
       "      <td>Art &amp; Design<\/td>\n",
       "      <td>January 7, 2018<\/td>\n",
       "      <td>1.0.0<\/td>\n",
       "      <td>4.0.3 and up<\/td>\n",
       "    <\/tr>\n",
       "    <tr>\n",
       "      <th>1<\/th>\n",
       "      <td>Coloring book moana<\/td>\n",
       "      <td>ART_AND_DESIGN<\/td>\n",
       "      <td>3.9<\/td>\n",
       "      <td>967<\/td>\n",
       "      <td>14M<\/td>\n",
       "      <td>500,000+<\/td>\n",
       "      <td>Free<\/td>\n",
       "      <td>0<\/td>\n",
       "      <td>Everyone<\/td>\n",
       "      <td>Art &amp; Design;Pretend Play<\/td>\n",
       "      <td>January 15, 2018<\/td>\n",
       "      <td>2.0.0<\/td>\n",
       "      <td>4.0.3 and up<\/td>\n",
       "    <\/tr>\n",
       "    <tr>\n",
       "      <th>2<\/th>\n",
       "      <td>U Launcher Lite – FREE Live Cool Themes, Hide ...<\/td>\n",
       "      <td>ART_AND_DESIGN<\/td>\n",
       "      <td>4.7<\/td>\n",
       "      <td>87510<\/td>\n",
       "      <td>8.7M<\/td>\n",
       "      <td>5,000,000+<\/td>\n",
       "      <td>Free<\/td>\n",
       "      <td>0<\/td>\n",
       "      <td>Everyone<\/td>\n",
       "      <td>Art &amp; Design<\/td>\n",
       "      <td>August 1, 2018<\/td>\n",
       "      <td>1.2.4<\/td>\n",
       "      <td>4.0.3 and up<\/td>\n",
       "    <\/tr>\n",
       "    <tr>\n",
       "      <th>3<\/th>\n",
       "      <td>Sketch - Draw &amp; Paint<\/td>\n",
       "      <td>ART_AND_DESIGN<\/td>\n",
       "      <td>4.5<\/td>\n",
       "      <td>215644<\/td>\n",
       "      <td>25M<\/td>\n",
       "      <td>50,000,000+<\/td>\n",
       "      <td>Free<\/td>\n",
       "      <td>0<\/td>\n",
       "      <td>Teen<\/td>\n",
       "      <td>Art &amp; Design<\/td>\n",
       "      <td>June 8, 2018<\/td>\n",
       "      <td>Varies with device<\/td>\n",
       "      <td>4.2 and up<\/td>\n",
       "    <\/tr>\n",
       "    <tr>\n",
       "      <th>4<\/th>\n",
       "      <td>Pixel Draw - Number Art Coloring Book<\/td>\n",
       "      <td>ART_AND_DESIGN<\/td>\n",
       "      <td>4.3<\/td>\n",
       "      <td>967<\/td>\n",
       "      <td>2.8M<\/td>\n",
       "      <td>100,000+<\/td>\n",
       "      <td>Free<\/td>\n",
       "      <td>0<\/td>\n",
       "      <td>Everyone<\/td>\n",
       "      <td>Art &amp; Design;Creativity<\/td>\n",
       "      <td>June 20, 2018<\/td>\n",
       "      <td>1.1<\/td>\n",
       "      <td>4.4 and up<\/td>\n",
       "    <\/tr>\n",
       "    <tr>\n",
       "      <th>...<\/th>\n",
       "      <td>...<\/td>\n",
       "      <td>...<\/td>\n",
       "      <td>...<\/td>\n",
       "      <td>...<\/td>\n",
       "      <td>...<\/td>\n",
       "      <td>...<\/td>\n",
       "      <td>...<\/td>\n",
       "      <td>...<\/td>\n",
       "      <td>...<\/td>\n",
       "      <td>...<\/td>\n",
       "      <td>...<\/td>\n",
       "      <td>...<\/td>\n",
       "      <td>...<\/td>\n",
       "    <\/tr>\n",
       "    <tr>\n",
       "      <th>10836<\/th>\n",
       "      <td>Sya9a Maroc - FR<\/td>\n",
       "      <td>FAMILY<\/td>\n",
       "      <td>4.5<\/td>\n",
       "      <td>38<\/td>\n",
       "      <td>53M<\/td>\n",
       "      <td>5,000+<\/td>\n",
       "      <td>Free<\/td>\n",
       "      <td>0<\/td>\n",
       "      <td>Everyone<\/td>\n",
       "      <td>Education<\/td>\n",
       "      <td>July 25, 2017<\/td>\n",
       "      <td>1.48<\/td>\n",
       "      <td>4.1 and up<\/td>\n",
       "    <\/tr>\n",
       "    <tr>\n",
       "      <th>10837<\/th>\n",
       "      <td>Fr. Mike Schmitz Audio Teachings<\/td>\n",
       "      <td>FAMILY<\/td>\n",
       "      <td>5.0<\/td>\n",
       "      <td>4<\/td>\n",
       "      <td>3.6M<\/td>\n",
       "      <td>100+<\/td>\n",
       "      <td>Free<\/td>\n",
       "      <td>0<\/td>\n",
       "      <td>Everyone<\/td>\n",
       "      <td>Education<\/td>\n",
       "      <td>July 6, 2018<\/td>\n",
       "      <td>1.0<\/td>\n",
       "      <td>4.1 and up<\/td>\n",
       "    <\/tr>\n",
       "    <tr>\n",
       "      <th>10838<\/th>\n",
       "      <td>Parkinson Exercices FR<\/td>\n",
       "      <td>MEDICAL<\/td>\n",
       "      <td>NaN<\/td>\n",
       "      <td>3<\/td>\n",
       "      <td>9.5M<\/td>\n",
       "      <td>1,000+<\/td>\n",
       "      <td>Free<\/td>\n",
       "      <td>0<\/td>\n",
       "      <td>Everyone<\/td>\n",
       "      <td>Medical<\/td>\n",
       "      <td>January 20, 2017<\/td>\n",
       "      <td>1.0<\/td>\n",
       "      <td>2.2 and up<\/td>\n",
       "    <\/tr>\n",
       "    <tr>\n",
       "      <th>10839<\/th>\n",
       "      <td>The SCP Foundation DB fr nn5n<\/td>\n",
       "      <td>BOOKS_AND_REFERENCE<\/td>\n",
       "      <td>4.5<\/td>\n",
       "      <td>114<\/td>\n",
       "      <td>Varies with device<\/td>\n",
       "      <td>1,000+<\/td>\n",
       "      <td>Free<\/td>\n",
       "      <td>0<\/td>\n",
       "      <td>Mature 17+<\/td>\n",
       "      <td>Books &amp; Reference<\/td>\n",
       "      <td>January 19, 2015<\/td>\n",
       "      <td>Varies with device<\/td>\n",
       "      <td>Varies with device<\/td>\n",
       "    <\/tr>\n",
       "    <tr>\n",
       "      <th>10840<\/th>\n",
       "      <td>iHoroscope - 2018 Daily Horoscope &amp; Astrology<\/td>\n",
       "      <td>LIFESTYLE<\/td>\n",
       "      <td>4.5<\/td>\n",
       "      <td>398307<\/td>\n",
       "      <td>19M<\/td>\n",
       "      <td>10,000,000+<\/td>\n",
       "      <td>Free<\/td>\n",
       "      <td>0<\/td>\n",
       "      <td>Everyone<\/td>\n",
       "      <td>Lifestyle<\/td>\n",
       "      <td>July 25, 2018<\/td>\n",
       "      <td>Varies with device<\/td>\n",
       "      <td>Varies with device<\/td>\n",
       "    <\/tr>\n",
       "  <\/tbody>\n",
       "<\/table>\n",
       "<p>10841 rows × 13 columns<\/p>\n",
       "<\/div>"
      ]
     },
     "metadata":{
      
     },
     "output_type":"display_data"
    }
   ],
   "metadata":{
    "datalore":{
     "node_id":"Tz7yCUFeXpyShsaERiMVe2",
     "type":"CODE",
     "hide_input_from_viewers":false,
     "hide_output_from_viewers":false
    }
   }
  },
  {
   "cell_type":"code",
   "source":[
    "apps.head()"
   ],
   "execution_count":5,
   "outputs":[
    {
     "data":{
      "text\/html":[
       "<div>\n",
       "<style scoped>\n",
       "    .dataframe tbody tr th:only-of-type {\n",
       "        vertical-align: middle;\n",
       "    }\n",
       "\n",
       "    .dataframe tbody tr th {\n",
       "        vertical-align: top;\n",
       "    }\n",
       "\n",
       "    .dataframe thead th {\n",
       "        text-align: right;\n",
       "    }\n",
       "<\/style>\n",
       "<table border=\"1\" class=\"dataframe\">\n",
       "  <thead>\n",
       "    <tr style=\"text-align: right;\">\n",
       "      <th><\/th>\n",
       "      <th>App<\/th>\n",
       "      <th>Category<\/th>\n",
       "      <th>Rating<\/th>\n",
       "      <th>Reviews<\/th>\n",
       "      <th>Size<\/th>\n",
       "      <th>Installs<\/th>\n",
       "      <th>Type<\/th>\n",
       "      <th>Price<\/th>\n",
       "      <th>Content Rating<\/th>\n",
       "      <th>Genres<\/th>\n",
       "      <th>Last Updated<\/th>\n",
       "      <th>Current Ver<\/th>\n",
       "      <th>Android Ver<\/th>\n",
       "    <\/tr>\n",
       "  <\/thead>\n",
       "  <tbody>\n",
       "    <tr>\n",
       "      <th>0<\/th>\n",
       "      <td>Photo Editor &amp; Candy Camera &amp; Grid &amp; ScrapBook<\/td>\n",
       "      <td>ART_AND_DESIGN<\/td>\n",
       "      <td>4.1<\/td>\n",
       "      <td>159<\/td>\n",
       "      <td>19M<\/td>\n",
       "      <td>10,000+<\/td>\n",
       "      <td>Free<\/td>\n",
       "      <td>0<\/td>\n",
       "      <td>Everyone<\/td>\n",
       "      <td>Art &amp; Design<\/td>\n",
       "      <td>January 7, 2018<\/td>\n",
       "      <td>1.0.0<\/td>\n",
       "      <td>4.0.3 and up<\/td>\n",
       "    <\/tr>\n",
       "    <tr>\n",
       "      <th>1<\/th>\n",
       "      <td>Coloring book moana<\/td>\n",
       "      <td>ART_AND_DESIGN<\/td>\n",
       "      <td>3.9<\/td>\n",
       "      <td>967<\/td>\n",
       "      <td>14M<\/td>\n",
       "      <td>500,000+<\/td>\n",
       "      <td>Free<\/td>\n",
       "      <td>0<\/td>\n",
       "      <td>Everyone<\/td>\n",
       "      <td>Art &amp; Design;Pretend Play<\/td>\n",
       "      <td>January 15, 2018<\/td>\n",
       "      <td>2.0.0<\/td>\n",
       "      <td>4.0.3 and up<\/td>\n",
       "    <\/tr>\n",
       "    <tr>\n",
       "      <th>2<\/th>\n",
       "      <td>U Launcher Lite – FREE Live Cool Themes, Hide ...<\/td>\n",
       "      <td>ART_AND_DESIGN<\/td>\n",
       "      <td>4.7<\/td>\n",
       "      <td>87510<\/td>\n",
       "      <td>8.7M<\/td>\n",
       "      <td>5,000,000+<\/td>\n",
       "      <td>Free<\/td>\n",
       "      <td>0<\/td>\n",
       "      <td>Everyone<\/td>\n",
       "      <td>Art &amp; Design<\/td>\n",
       "      <td>August 1, 2018<\/td>\n",
       "      <td>1.2.4<\/td>\n",
       "      <td>4.0.3 and up<\/td>\n",
       "    <\/tr>\n",
       "    <tr>\n",
       "      <th>3<\/th>\n",
       "      <td>Sketch - Draw &amp; Paint<\/td>\n",
       "      <td>ART_AND_DESIGN<\/td>\n",
       "      <td>4.5<\/td>\n",
       "      <td>215644<\/td>\n",
       "      <td>25M<\/td>\n",
       "      <td>50,000,000+<\/td>\n",
       "      <td>Free<\/td>\n",
       "      <td>0<\/td>\n",
       "      <td>Teen<\/td>\n",
       "      <td>Art &amp; Design<\/td>\n",
       "      <td>June 8, 2018<\/td>\n",
       "      <td>Varies with device<\/td>\n",
       "      <td>4.2 and up<\/td>\n",
       "    <\/tr>\n",
       "    <tr>\n",
       "      <th>4<\/th>\n",
       "      <td>Pixel Draw - Number Art Coloring Book<\/td>\n",
       "      <td>ART_AND_DESIGN<\/td>\n",
       "      <td>4.3<\/td>\n",
       "      <td>967<\/td>\n",
       "      <td>2.8M<\/td>\n",
       "      <td>100,000+<\/td>\n",
       "      <td>Free<\/td>\n",
       "      <td>0<\/td>\n",
       "      <td>Everyone<\/td>\n",
       "      <td>Art &amp; Design;Creativity<\/td>\n",
       "      <td>June 20, 2018<\/td>\n",
       "      <td>1.1<\/td>\n",
       "      <td>4.4 and up<\/td>\n",
       "    <\/tr>\n",
       "  <\/tbody>\n",
       "<\/table>\n",
       "<\/div>"
      ]
     },
     "metadata":{
      
     },
     "output_type":"display_data"
    }
   ],
   "metadata":{
    "datalore":{
     "node_id":"tV2au5uQJNrTbgPAxux7oQ",
     "type":"CODE",
     "hide_input_from_viewers":false,
     "hide_output_from_viewers":false
    }
   }
  },
  {
   "cell_type":"code",
   "source":[
    "apps.tail()"
   ],
   "execution_count":6,
   "outputs":[
    {
     "data":{
      "text\/html":[
       "<div>\n",
       "<style scoped>\n",
       "    .dataframe tbody tr th:only-of-type {\n",
       "        vertical-align: middle;\n",
       "    }\n",
       "\n",
       "    .dataframe tbody tr th {\n",
       "        vertical-align: top;\n",
       "    }\n",
       "\n",
       "    .dataframe thead th {\n",
       "        text-align: right;\n",
       "    }\n",
       "<\/style>\n",
       "<table border=\"1\" class=\"dataframe\">\n",
       "  <thead>\n",
       "    <tr style=\"text-align: right;\">\n",
       "      <th><\/th>\n",
       "      <th>App<\/th>\n",
       "      <th>Category<\/th>\n",
       "      <th>Rating<\/th>\n",
       "      <th>Reviews<\/th>\n",
       "      <th>Size<\/th>\n",
       "      <th>Installs<\/th>\n",
       "      <th>Type<\/th>\n",
       "      <th>Price<\/th>\n",
       "      <th>Content Rating<\/th>\n",
       "      <th>Genres<\/th>\n",
       "      <th>Last Updated<\/th>\n",
       "      <th>Current Ver<\/th>\n",
       "      <th>Android Ver<\/th>\n",
       "    <\/tr>\n",
       "  <\/thead>\n",
       "  <tbody>\n",
       "    <tr>\n",
       "      <th>10836<\/th>\n",
       "      <td>Sya9a Maroc - FR<\/td>\n",
       "      <td>FAMILY<\/td>\n",
       "      <td>4.5<\/td>\n",
       "      <td>38<\/td>\n",
       "      <td>53M<\/td>\n",
       "      <td>5,000+<\/td>\n",
       "      <td>Free<\/td>\n",
       "      <td>0<\/td>\n",
       "      <td>Everyone<\/td>\n",
       "      <td>Education<\/td>\n",
       "      <td>July 25, 2017<\/td>\n",
       "      <td>1.48<\/td>\n",
       "      <td>4.1 and up<\/td>\n",
       "    <\/tr>\n",
       "    <tr>\n",
       "      <th>10837<\/th>\n",
       "      <td>Fr. Mike Schmitz Audio Teachings<\/td>\n",
       "      <td>FAMILY<\/td>\n",
       "      <td>5.0<\/td>\n",
       "      <td>4<\/td>\n",
       "      <td>3.6M<\/td>\n",
       "      <td>100+<\/td>\n",
       "      <td>Free<\/td>\n",
       "      <td>0<\/td>\n",
       "      <td>Everyone<\/td>\n",
       "      <td>Education<\/td>\n",
       "      <td>July 6, 2018<\/td>\n",
       "      <td>1.0<\/td>\n",
       "      <td>4.1 and up<\/td>\n",
       "    <\/tr>\n",
       "    <tr>\n",
       "      <th>10838<\/th>\n",
       "      <td>Parkinson Exercices FR<\/td>\n",
       "      <td>MEDICAL<\/td>\n",
       "      <td>NaN<\/td>\n",
       "      <td>3<\/td>\n",
       "      <td>9.5M<\/td>\n",
       "      <td>1,000+<\/td>\n",
       "      <td>Free<\/td>\n",
       "      <td>0<\/td>\n",
       "      <td>Everyone<\/td>\n",
       "      <td>Medical<\/td>\n",
       "      <td>January 20, 2017<\/td>\n",
       "      <td>1.0<\/td>\n",
       "      <td>2.2 and up<\/td>\n",
       "    <\/tr>\n",
       "    <tr>\n",
       "      <th>10839<\/th>\n",
       "      <td>The SCP Foundation DB fr nn5n<\/td>\n",
       "      <td>BOOKS_AND_REFERENCE<\/td>\n",
       "      <td>4.5<\/td>\n",
       "      <td>114<\/td>\n",
       "      <td>Varies with device<\/td>\n",
       "      <td>1,000+<\/td>\n",
       "      <td>Free<\/td>\n",
       "      <td>0<\/td>\n",
       "      <td>Mature 17+<\/td>\n",
       "      <td>Books &amp; Reference<\/td>\n",
       "      <td>January 19, 2015<\/td>\n",
       "      <td>Varies with device<\/td>\n",
       "      <td>Varies with device<\/td>\n",
       "    <\/tr>\n",
       "    <tr>\n",
       "      <th>10840<\/th>\n",
       "      <td>iHoroscope - 2018 Daily Horoscope &amp; Astrology<\/td>\n",
       "      <td>LIFESTYLE<\/td>\n",
       "      <td>4.5<\/td>\n",
       "      <td>398307<\/td>\n",
       "      <td>19M<\/td>\n",
       "      <td>10,000,000+<\/td>\n",
       "      <td>Free<\/td>\n",
       "      <td>0<\/td>\n",
       "      <td>Everyone<\/td>\n",
       "      <td>Lifestyle<\/td>\n",
       "      <td>July 25, 2018<\/td>\n",
       "      <td>Varies with device<\/td>\n",
       "      <td>Varies with device<\/td>\n",
       "    <\/tr>\n",
       "  <\/tbody>\n",
       "<\/table>\n",
       "<\/div>"
      ]
     },
     "metadata":{
      
     },
     "output_type":"display_data"
    }
   ],
   "metadata":{
    "datalore":{
     "node_id":"RC5Yve3LRonKD18jQnLA5z",
     "type":"CODE",
     "hide_input_from_viewers":false,
     "hide_output_from_viewers":false
    }
   }
  },
  {
   "cell_type":"markdown",
   "source":[
    "DATA CLEANING STAGE"
   ],
   "attachments":{
    
   },
   "metadata":{
    "datalore":{
     "node_id":"wh8B38VB4RPJeBfZhOcr46",
     "type":"MD",
     "hide_input_from_viewers":false,
     "hide_output_from_viewers":false
    }
   }
  },
  {
   "cell_type":"markdown",
   "source":[
    "1. Find number of missing values"
   ],
   "attachments":{
    
   },
   "metadata":{
    "datalore":{
     "node_id":"qiqJe3aYD4ETMyVLHzd55n",
     "type":"MD",
     "hide_input_from_viewers":false,
     "hide_output_from_viewers":false
    }
   }
  },
  {
   "cell_type":"code",
   "source":[
    "apps.isna().any()"
   ],
   "execution_count":7,
   "outputs":[
    {
     "data":{
      "text\/html":[
       
      ]
     },
     "metadata":{
      
     },
     "output_type":"display_data"
    }
   ],
   "metadata":{
    "datalore":{
     "node_id":"szZNoakctyQicJw32kP0rd",
     "type":"CODE",
     "hide_input_from_viewers":false,
     "hide_output_from_viewers":false
    }
   }
  },
  {
   "cell_type":"code",
   "source":[
    "apps.isna().sum()"
   ],
   "execution_count":8,
   "outputs":[
    {
     "data":{
      "text\/html":[
       
      ]
     },
     "metadata":{
      
     },
     "output_type":"display_data"
    }
   ],
   "metadata":{
    "datalore":{
     "node_id":"qvmp5oRWuPzzdZNI0YW2Qe",
     "type":"CODE",
     "hide_input_from_viewers":false,
     "hide_output_from_viewers":false
    }
   }
  },
  {
   "cell_type":"markdown",
   "source":[
    "There are 1474 values missing in Rating column, 1 in Type, 1 in Content Rating, 8 in current version, and 3 in android version.\n",
    "We can drop missing records of Type and Content Rating as its count is much less than the size of dataframe, but we can't drop null values of Rating because it has 1474 record with missing data"
   ],
   "attachments":{
    
   },
   "metadata":{
    "datalore":{
     "node_id":"Vy9OC0t6fHAXIyHbQSxX8b",
     "type":"MD",
     "hide_input_from_viewers":false,
     "hide_output_from_viewers":false
    }
   }
  },
  {
   "cell_type":"code",
   "source":[
    "# check whether the record with missing type contains some useful information. if yes, donot drop, otherwise drop\n",
    "apps[apps.Type.isna()==True]"
   ],
   "execution_count":9,
   "outputs":[
    {
     "data":{
      "text\/html":[
       "<div>\n",
       "<style scoped>\n",
       "    .dataframe tbody tr th:only-of-type {\n",
       "        vertical-align: middle;\n",
       "    }\n",
       "\n",
       "    .dataframe tbody tr th {\n",
       "        vertical-align: top;\n",
       "    }\n",
       "\n",
       "    .dataframe thead th {\n",
       "        text-align: right;\n",
       "    }\n",
       "<\/style>\n",
       "<table border=\"1\" class=\"dataframe\">\n",
       "  <thead>\n",
       "    <tr style=\"text-align: right;\">\n",
       "      <th><\/th>\n",
       "      <th>App<\/th>\n",
       "      <th>Category<\/th>\n",
       "      <th>Rating<\/th>\n",
       "      <th>Reviews<\/th>\n",
       "      <th>Size<\/th>\n",
       "      <th>Installs<\/th>\n",
       "      <th>Type<\/th>\n",
       "      <th>Price<\/th>\n",
       "      <th>Content Rating<\/th>\n",
       "      <th>Genres<\/th>\n",
       "      <th>Last Updated<\/th>\n",
       "      <th>Current Ver<\/th>\n",
       "      <th>Android Ver<\/th>\n",
       "    <\/tr>\n",
       "  <\/thead>\n",
       "  <tbody>\n",
       "    <tr>\n",
       "      <th>9148<\/th>\n",
       "      <td>Command &amp; Conquer: Rivals<\/td>\n",
       "      <td>FAMILY<\/td>\n",
       "      <td>NaN<\/td>\n",
       "      <td>0<\/td>\n",
       "      <td>Varies with device<\/td>\n",
       "      <td>0<\/td>\n",
       "      <td>NaN<\/td>\n",
       "      <td>0<\/td>\n",
       "      <td>Everyone 10+<\/td>\n",
       "      <td>Strategy<\/td>\n",
       "      <td>June 28, 2018<\/td>\n",
       "      <td>Varies with device<\/td>\n",
       "      <td>Varies with device<\/td>\n",
       "    <\/tr>\n",
       "  <\/tbody>\n",
       "<\/table>\n",
       "<\/div>"
      ]
     },
     "metadata":{
      
     },
     "output_type":"display_data"
    }
   ],
   "metadata":{
    "datalore":{
     "node_id":"OtpNSwZwUniAa2u6gQiFKN",
     "type":"CODE",
     "hide_input_from_viewers":false,
     "hide_output_from_viewers":false
    }
   }
  },
  {
   "cell_type":"code",
   "source":[
    "apps.Type.value_counts()"
   ],
   "execution_count":10,
   "outputs":[
    {
     "data":{
      "text\/html":[
       
      ]
     },
     "metadata":{
      
     },
     "output_type":"display_data"
    }
   ],
   "metadata":{
    "datalore":{
     "node_id":"FsdQoctd1r9Q1MTaC5RFoF",
     "type":"CODE",
     "hide_input_from_viewers":false,
     "hide_output_from_viewers":false
    }
   }
  },
  {
   "cell_type":"code",
   "source":[
    "# drop records with missing type and content rating\n",
    "\n",
    "apps.dropna(subset=['Type', 'Content Rating'], axis=0, inplace=True)"
   ],
   "execution_count":11,
   "outputs":[
    
   ],
   "metadata":{
    "datalore":{
     "node_id":"fTDUgsI01SIHVa4xybFR1H",
     "type":"CODE",
     "hide_input_from_viewers":false,
     "hide_output_from_viewers":false
    }
   }
  },
  {
   "cell_type":"code",
   "source":[
    "apps.isna().sum()"
   ],
   "execution_count":12,
   "outputs":[
    {
     "data":{
      "text\/html":[
       
      ]
     },
     "metadata":{
      
     },
     "output_type":"display_data"
    }
   ],
   "metadata":{
    "datalore":{
     "node_id":"KjTKnYJCUSQAjxUd1lkFdf",
     "type":"CODE",
     "hide_input_from_viewers":false,
     "hide_output_from_viewers":false
    }
   }
  },
  {
   "cell_type":"markdown",
   "source":[
    "2. Remove Duplicate Records\n",
    "add Codeadd Markdown\n",
    "As thisi data is all about applications of google play store, so different information for same application may lead to ambiguity. Remove all duplicates wo can perform analysis on much clean data"
   ],
   "attachments":{
    
   },
   "metadata":{
    "datalore":{
     "node_id":"rNc1DEiNCFcSN18cICbAOL",
     "type":"MD",
     "hide_input_from_viewers":false,
     "hide_output_from_viewers":false
    }
   }
  },
  {
   "cell_type":"code",
   "source":[
    "apps.duplicated().any()"
   ],
   "execution_count":14,
   "outputs":[
    {
     "data":{
      "text\/plain":[
       "True"
      ]
     },
     "metadata":{
      
     },
     "output_type":"display_data"
    }
   ],
   "metadata":{
    "datalore":{
     "node_id":"Tbe2X8Uvie8Q2j98BlhMZK",
     "type":"CODE",
     "hide_input_from_viewers":false,
     "hide_output_from_viewers":false
    }
   }
  },
  {
   "cell_type":"code",
   "source":[
    "# drop duplicates and update the dataframe\n",
    "\n",
    "apps.drop_duplicates(inplace=True)"
   ],
   "execution_count":15,
   "outputs":[
    
   ],
   "metadata":{
    "datalore":{
     "node_id":"qyMr6abm8vgc00hISLcopv",
     "type":"CODE",
     "hide_input_from_viewers":false,
     "hide_output_from_viewers":false
    }
   }
  },
  {
   "cell_type":"code",
   "source":[
    "# cross check is there are still some duplicates\n",
    "\n",
    "apps.duplicated().any()"
   ],
   "execution_count":16,
   "outputs":[
    {
     "data":{
      "text\/plain":[
       "False"
      ]
     },
     "metadata":{
      
     },
     "output_type":"display_data"
    }
   ],
   "metadata":{
    "datalore":{
     "node_id":"TcpXqWP3cuWbuVjk3qJALn",
     "type":"CODE",
     "hide_input_from_viewers":false,
     "hide_output_from_viewers":false
    }
   }
  },
  {
   "cell_type":"code",
   "source":[
    "# check the number of missing values in Rating after removing duplicates\n",
    "\n",
    "apps.isna().sum()"
   ],
   "execution_count":18,
   "outputs":[
    {
     "data":{
      "text\/html":[
       
      ]
     },
     "metadata":{
      
     },
     "output_type":"display_data"
    }
   ],
   "metadata":{
    "datalore":{
     "node_id":"BIi4AmQG0sJ0rLEV9c0LQQ",
     "type":"CODE",
     "hide_input_from_viewers":false,
     "hide_output_from_viewers":false
    }
   }
  },
  {
   "cell_type":"markdown",
   "source":[
    "3. Correcting Data Types of each Attribute"
   ],
   "attachments":{
    
   },
   "metadata":{
    "datalore":{
     "node_id":"FKQ2jzf57BDmykyLwwnvPt",
     "type":"MD",
     "hide_input_from_viewers":false,
     "hide_output_from_viewers":false
    }
   }
  },
  {
   "cell_type":"markdown",
   "source":[
    "Improper data type of attributes could make analysis more difficult and incorrect, for example if a datetime column is interpreted as string by python then you wouldn't be able to extract useful information from date like month, year or day easily, similarly if integer or float column is interpreted as string then you wouldn't be able to calculate its avergae or total. So, in order to simplify our analysis we should first correct our data types"
   ],
   "attachments":{
    
   },
   "metadata":{
    "datalore":{
     "node_id":"WqCxnE96FsJlcjMeRJKSlD",
     "type":"MD",
     "hide_input_from_viewers":false,
     "hide_output_from_viewers":false
    }
   }
  },
  {
   "cell_type":"code",
   "source":[
    "# finding the data types of each attribute \n",
    "apps.info()"
   ],
   "execution_count":25,
   "outputs":[
    {
     "name":"stdout",
     "text":[
      "<class 'pandas.core.frame.DataFrame'>\n",
      "Int64Index: 10356 entries, 0 to 10840\n",
      "Data columns (total 13 columns):\n",
      " #   Column          Non-Null Count  Dtype  \n",
      "---  ------          --------------  -----  \n",
      " 0   App             10356 non-null  object \n",
      " 1   Category        10356 non-null  object \n",
      " 2   Rating          8892 non-null   float64\n",
      " 3   Reviews         10356 non-null  object \n",
      " 4   Size            10356 non-null  object \n",
      " 5   Installs        10356 non-null  object \n",
      " 6   Type            10356 non-null  object \n",
      " 7   Price           10356 non-null  object \n",
      " 8   Content Rating  10356 non-null  object \n",
      " 9   Genres          10356 non-null  object \n",
      " 10  Last Updated    10356 non-null  object \n",
      " 11  Current Ver     10348 non-null  object \n",
      " 12  Android Ver     10354 non-null  object \n",
      "dtypes: float64(1), object(12)\n",
      "memory usage: 1.1+ MB\n"
     ],
     "output_type":"stream"
    }
   ],
   "metadata":{
    "datalore":{
     "node_id":"GAybAeQTtljrspoWyKWh48",
     "type":"CODE",
     "hide_input_from_viewers":false,
     "hide_output_from_viewers":false
    }
   }
  },
  {
   "cell_type":"code",
   "source":[
    "apps[apps.Type == 'Paid'].head()"
   ],
   "execution_count":26,
   "outputs":[
    {
     "data":{
      "text\/html":[
       "<div>\n",
       "<style scoped>\n",
       "    .dataframe tbody tr th:only-of-type {\n",
       "        vertical-align: middle;\n",
       "    }\n",
       "\n",
       "    .dataframe tbody tr th {\n",
       "        vertical-align: top;\n",
       "    }\n",
       "\n",
       "    .dataframe thead th {\n",
       "        text-align: right;\n",
       "    }\n",
       "<\/style>\n",
       "<table border=\"1\" class=\"dataframe\">\n",
       "  <thead>\n",
       "    <tr style=\"text-align: right;\">\n",
       "      <th><\/th>\n",
       "      <th>App<\/th>\n",
       "      <th>Category<\/th>\n",
       "      <th>Rating<\/th>\n",
       "      <th>Reviews<\/th>\n",
       "      <th>Size<\/th>\n",
       "      <th>Installs<\/th>\n",
       "      <th>Type<\/th>\n",
       "      <th>Price<\/th>\n",
       "      <th>Content Rating<\/th>\n",
       "      <th>Genres<\/th>\n",
       "      <th>Last Updated<\/th>\n",
       "      <th>Current Ver<\/th>\n",
       "      <th>Android Ver<\/th>\n",
       "    <\/tr>\n",
       "  <\/thead>\n",
       "  <tbody>\n",
       "    <tr>\n",
       "      <th>234<\/th>\n",
       "      <td>TurboScan: scan documents and receipts in PDF<\/td>\n",
       "      <td>BUSINESS<\/td>\n",
       "      <td>4.7<\/td>\n",
       "      <td>11442<\/td>\n",
       "      <td>6.8M<\/td>\n",
       "      <td>100,000+<\/td>\n",
       "      <td>Paid<\/td>\n",
       "      <td>$4.99<\/td>\n",
       "      <td>Everyone<\/td>\n",
       "      <td>Business<\/td>\n",
       "      <td>March 25, 2018<\/td>\n",
       "      <td>1.5.2<\/td>\n",
       "      <td>4.0 and up<\/td>\n",
       "    <\/tr>\n",
       "    <tr>\n",
       "      <th>235<\/th>\n",
       "      <td>Tiny Scanner Pro: PDF Doc Scan<\/td>\n",
       "      <td>BUSINESS<\/td>\n",
       "      <td>4.8<\/td>\n",
       "      <td>10295<\/td>\n",
       "      <td>39M<\/td>\n",
       "      <td>100,000+<\/td>\n",
       "      <td>Paid<\/td>\n",
       "      <td>$4.99<\/td>\n",
       "      <td>Everyone<\/td>\n",
       "      <td>Business<\/td>\n",
       "      <td>April 11, 2017<\/td>\n",
       "      <td>3.4.6<\/td>\n",
       "      <td>3.0 and up<\/td>\n",
       "    <\/tr>\n",
       "    <tr>\n",
       "      <th>427<\/th>\n",
       "      <td>Puffin Browser Pro<\/td>\n",
       "      <td>COMMUNICATION<\/td>\n",
       "      <td>4.0<\/td>\n",
       "      <td>18247<\/td>\n",
       "      <td>Varies with device<\/td>\n",
       "      <td>100,000+<\/td>\n",
       "      <td>Paid<\/td>\n",
       "      <td>$3.99<\/td>\n",
       "      <td>Everyone<\/td>\n",
       "      <td>Communication<\/td>\n",
       "      <td>July 5, 2018<\/td>\n",
       "      <td>7.5.3.20547<\/td>\n",
       "      <td>4.1 and up<\/td>\n",
       "    <\/tr>\n",
       "    <tr>\n",
       "      <th>476<\/th>\n",
       "      <td>Moco+ - Chat, Meet People<\/td>\n",
       "      <td>DATING<\/td>\n",
       "      <td>4.2<\/td>\n",
       "      <td>1545<\/td>\n",
       "      <td>Varies with device<\/td>\n",
       "      <td>10,000+<\/td>\n",
       "      <td>Paid<\/td>\n",
       "      <td>$3.99<\/td>\n",
       "      <td>Mature 17+<\/td>\n",
       "      <td>Dating<\/td>\n",
       "      <td>June 19, 2018<\/td>\n",
       "      <td>2.6.139<\/td>\n",
       "      <td>4.1 and up<\/td>\n",
       "    <\/tr>\n",
       "    <tr>\n",
       "      <th>477<\/th>\n",
       "      <td>Calculator<\/td>\n",
       "      <td>DATING<\/td>\n",
       "      <td>2.6<\/td>\n",
       "      <td>57<\/td>\n",
       "      <td>6.2M<\/td>\n",
       "      <td>1,000+<\/td>\n",
       "      <td>Paid<\/td>\n",
       "      <td>$6.99<\/td>\n",
       "      <td>Everyone<\/td>\n",
       "      <td>Dating<\/td>\n",
       "      <td>October 25, 2017<\/td>\n",
       "      <td>1.1.6<\/td>\n",
       "      <td>4.0 and up<\/td>\n",
       "    <\/tr>\n",
       "  <\/tbody>\n",
       "<\/table>\n",
       "<\/div>"
      ]
     },
     "metadata":{
      
     },
     "output_type":"display_data"
    }
   ],
   "metadata":{
    "datalore":{
     "node_id":"mNfYoYT0Hwx5cT8rO1HBWH",
     "type":"CODE",
     "hide_input_from_viewers":false,
     "hide_output_from_viewers":false
    }
   }
  },
  {
   "cell_type":"markdown",
   "source":[
    "Here, we can easily see some special characters in Price and Installs columns. We can't convert string to integer if it doesn't contain all digits and no special characters or alphabets. So, firstly we have to remove these special characters"
   ],
   "attachments":{
    
   },
   "metadata":{
    "datalore":{
     "node_id":"tnFLa531AfjWQHc9GEU78L",
     "type":"MD",
     "hide_input_from_viewers":false,
     "hide_output_from_viewers":false
    }
   }
  },
  {
   "cell_type":"code",
   "source":[
    "# list of characters to remove\n",
    "chars_to_remove = ['+', ',', '$']\n",
    "\n",
    "# columns from where to remove special characters\n",
    "cols_to_clean = ['Reviews', 'Installs', 'Price']\n",
    "\n",
    "for col in cols_to_clean:\n",
    "    for char in chars_to_remove:\n",
    "        \n",
    "        apps[col] = apps[col].apply(lambda x: x.replace(char, ''))\n",
    "        \n",
    "\n",
    "apps[apps.Type == \"Paid\"]"
   ],
   "execution_count":19,
   "outputs":[
    {
     "data":{
      "text\/html":[
       "<div>\n",
       "<style scoped>\n",
       "    .dataframe tbody tr th:only-of-type {\n",
       "        vertical-align: middle;\n",
       "    }\n",
       "\n",
       "    .dataframe tbody tr th {\n",
       "        vertical-align: top;\n",
       "    }\n",
       "\n",
       "    .dataframe thead th {\n",
       "        text-align: right;\n",
       "    }\n",
       "<\/style>\n",
       "<table border=\"1\" class=\"dataframe\">\n",
       "  <thead>\n",
       "    <tr style=\"text-align: right;\">\n",
       "      <th><\/th>\n",
       "      <th>App<\/th>\n",
       "      <th>Category<\/th>\n",
       "      <th>Rating<\/th>\n",
       "      <th>Reviews<\/th>\n",
       "      <th>Size<\/th>\n",
       "      <th>Installs<\/th>\n",
       "      <th>Type<\/th>\n",
       "      <th>Price<\/th>\n",
       "      <th>Content Rating<\/th>\n",
       "      <th>Genres<\/th>\n",
       "      <th>Last Updated<\/th>\n",
       "      <th>Current Ver<\/th>\n",
       "      <th>Android Ver<\/th>\n",
       "    <\/tr>\n",
       "  <\/thead>\n",
       "  <tbody>\n",
       "    <tr>\n",
       "      <th>234<\/th>\n",
       "      <td>TurboScan: scan documents and receipts in PDF<\/td>\n",
       "      <td>BUSINESS<\/td>\n",
       "      <td>4.7<\/td>\n",
       "      <td>11442<\/td>\n",
       "      <td>6.8M<\/td>\n",
       "      <td>100000<\/td>\n",
       "      <td>Paid<\/td>\n",
       "      <td>4.99<\/td>\n",
       "      <td>Everyone<\/td>\n",
       "      <td>Business<\/td>\n",
       "      <td>March 25, 2018<\/td>\n",
       "      <td>1.5.2<\/td>\n",
       "      <td>4.0 and up<\/td>\n",
       "    <\/tr>\n",
       "    <tr>\n",
       "      <th>235<\/th>\n",
       "      <td>Tiny Scanner Pro: PDF Doc Scan<\/td>\n",
       "      <td>BUSINESS<\/td>\n",
       "      <td>4.8<\/td>\n",
       "      <td>10295<\/td>\n",
       "      <td>39M<\/td>\n",
       "      <td>100000<\/td>\n",
       "      <td>Paid<\/td>\n",
       "      <td>4.99<\/td>\n",
       "      <td>Everyone<\/td>\n",
       "      <td>Business<\/td>\n",
       "      <td>April 11, 2017<\/td>\n",
       "      <td>3.4.6<\/td>\n",
       "      <td>3.0 and up<\/td>\n",
       "    <\/tr>\n",
       "    <tr>\n",
       "      <th>427<\/th>\n",
       "      <td>Puffin Browser Pro<\/td>\n",
       "      <td>COMMUNICATION<\/td>\n",
       "      <td>4.0<\/td>\n",
       "      <td>18247<\/td>\n",
       "      <td>Varies with device<\/td>\n",
       "      <td>100000<\/td>\n",
       "      <td>Paid<\/td>\n",
       "      <td>3.99<\/td>\n",
       "      <td>Everyone<\/td>\n",
       "      <td>Communication<\/td>\n",
       "      <td>July 5, 2018<\/td>\n",
       "      <td>7.5.3.20547<\/td>\n",
       "      <td>4.1 and up<\/td>\n",
       "    <\/tr>\n",
       "    <tr>\n",
       "      <th>476<\/th>\n",
       "      <td>Moco+ - Chat, Meet People<\/td>\n",
       "      <td>DATING<\/td>\n",
       "      <td>4.2<\/td>\n",
       "      <td>1545<\/td>\n",
       "      <td>Varies with device<\/td>\n",
       "      <td>10000<\/td>\n",
       "      <td>Paid<\/td>\n",
       "      <td>3.99<\/td>\n",
       "      <td>Mature 17+<\/td>\n",
       "      <td>Dating<\/td>\n",
       "      <td>June 19, 2018<\/td>\n",
       "      <td>2.6.139<\/td>\n",
       "      <td>4.1 and up<\/td>\n",
       "    <\/tr>\n",
       "    <tr>\n",
       "      <th>477<\/th>\n",
       "      <td>Calculator<\/td>\n",
       "      <td>DATING<\/td>\n",
       "      <td>2.6<\/td>\n",
       "      <td>57<\/td>\n",
       "      <td>6.2M<\/td>\n",
       "      <td>1000<\/td>\n",
       "      <td>Paid<\/td>\n",
       "      <td>6.99<\/td>\n",
       "      <td>Everyone<\/td>\n",
       "      <td>Dating<\/td>\n",
       "      <td>October 25, 2017<\/td>\n",
       "      <td>1.1.6<\/td>\n",
       "      <td>4.0 and up<\/td>\n",
       "    <\/tr>\n",
       "    <tr>\n",
       "      <th>...<\/th>\n",
       "      <td>...<\/td>\n",
       "      <td>...<\/td>\n",
       "      <td>...<\/td>\n",
       "      <td>...<\/td>\n",
       "      <td>...<\/td>\n",
       "      <td>...<\/td>\n",
       "      <td>...<\/td>\n",
       "      <td>...<\/td>\n",
       "      <td>...<\/td>\n",
       "      <td>...<\/td>\n",
       "      <td>...<\/td>\n",
       "      <td>...<\/td>\n",
       "      <td>...<\/td>\n",
       "    <\/tr>\n",
       "    <tr>\n",
       "      <th>10735<\/th>\n",
       "      <td>FP VoiceBot<\/td>\n",
       "      <td>FAMILY<\/td>\n",
       "      <td>NaN<\/td>\n",
       "      <td>17<\/td>\n",
       "      <td>157k<\/td>\n",
       "      <td>100<\/td>\n",
       "      <td>Paid<\/td>\n",
       "      <td>0.99<\/td>\n",
       "      <td>Mature 17+<\/td>\n",
       "      <td>Entertainment<\/td>\n",
       "      <td>November 25, 2015<\/td>\n",
       "      <td>1.2<\/td>\n",
       "      <td>2.1 and up<\/td>\n",
       "    <\/tr>\n",
       "    <tr>\n",
       "      <th>10760<\/th>\n",
       "      <td>Fast Tract Diet<\/td>\n",
       "      <td>HEALTH_AND_FITNESS<\/td>\n",
       "      <td>4.4<\/td>\n",
       "      <td>35<\/td>\n",
       "      <td>2.4M<\/td>\n",
       "      <td>1000<\/td>\n",
       "      <td>Paid<\/td>\n",
       "      <td>7.99<\/td>\n",
       "      <td>Everyone<\/td>\n",
       "      <td>Health &amp; Fitness<\/td>\n",
       "      <td>August 8, 2018<\/td>\n",
       "      <td>1.9.3<\/td>\n",
       "      <td>4.2 and up<\/td>\n",
       "    <\/tr>\n",
       "    <tr>\n",
       "      <th>10782<\/th>\n",
       "      <td>Trine 2: Complete Story<\/td>\n",
       "      <td>GAME<\/td>\n",
       "      <td>3.8<\/td>\n",
       "      <td>252<\/td>\n",
       "      <td>11M<\/td>\n",
       "      <td>10000<\/td>\n",
       "      <td>Paid<\/td>\n",
       "      <td>16.99<\/td>\n",
       "      <td>Teen<\/td>\n",
       "      <td>Action<\/td>\n",
       "      <td>February 27, 2015<\/td>\n",
       "      <td>2.22<\/td>\n",
       "      <td>5.0 and up<\/td>\n",
       "    <\/tr>\n",
       "    <tr>\n",
       "      <th>10785<\/th>\n",
       "      <td>sugar, sugar<\/td>\n",
       "      <td>FAMILY<\/td>\n",
       "      <td>4.2<\/td>\n",
       "      <td>1405<\/td>\n",
       "      <td>9.5M<\/td>\n",
       "      <td>10000<\/td>\n",
       "      <td>Paid<\/td>\n",
       "      <td>1.20<\/td>\n",
       "      <td>Everyone<\/td>\n",
       "      <td>Puzzle<\/td>\n",
       "      <td>June 5, 2018<\/td>\n",
       "      <td>2.7<\/td>\n",
       "      <td>2.3 and up<\/td>\n",
       "    <\/tr>\n",
       "    <tr>\n",
       "      <th>10798<\/th>\n",
       "      <td>Word Search Tab 1 FR<\/td>\n",
       "      <td>FAMILY<\/td>\n",
       "      <td>NaN<\/td>\n",
       "      <td>0<\/td>\n",
       "      <td>1020k<\/td>\n",
       "      <td>50<\/td>\n",
       "      <td>Paid<\/td>\n",
       "      <td>1.04<\/td>\n",
       "      <td>Everyone<\/td>\n",
       "      <td>Puzzle<\/td>\n",
       "      <td>February 6, 2012<\/td>\n",
       "      <td>1.1<\/td>\n",
       "      <td>3.0 and up<\/td>\n",
       "    <\/tr>\n",
       "  <\/tbody>\n",
       "<\/table>\n",
       "<p>765 rows × 13 columns<\/p>\n",
       "<\/div>"
      ]
     },
     "metadata":{
      
     },
     "output_type":"display_data"
    }
   ],
   "metadata":{
    "datalore":{
     "node_id":"q34fxRqVEsxTASdwql91iY",
     "type":"CODE",
     "hide_input_from_viewers":false,
     "hide_output_from_viewers":false
    }
   }
  },
  {
   "cell_type":"code",
   "source":[
    
   ],
   "execution_count":null,
   "outputs":[
    
   ],
   "metadata":{
    "datalore":{
     "node_id":"sBvvySe4IALZSiNsPKrXZi",
     "type":"CODE",
     "hide_input_from_viewers":false,
     "hide_output_from_viewers":false
    }
   }
  },
  {
   "cell_type":"markdown",
   "source":[
    "Content Rating column contains some complicated or we can say ambiguous\/uncleaned values so replace them with simple ones"
   ],
   "attachments":{
    
   },
   "metadata":{
    "datalore":{
     "node_id":"jyrekVetDDaFLwjBCDKenC",
     "type":"MD",
     "hide_input_from_viewers":false,
     "hide_output_from_viewers":false
    }
   }
  },
  {
   "cell_type":"code",
   "source":[
    "apps['Content Rating'].unique()"
   ],
   "execution_count":20,
   "outputs":[
    {
     "data":{
      "text\/html":[
       
      ]
     },
     "metadata":{
      
     },
     "output_type":"display_data"
    }
   ],
   "metadata":{
    "datalore":{
     "node_id":"bXE42kMDBSzDXI6oPMJrcu",
     "type":"CODE",
     "hide_input_from_viewers":false,
     "hide_output_from_viewers":false
    }
   }
  },
  {
   "cell_type":"code",
   "source":[
    "# replace 'everyone 10+' to only '10+', 'Mature 17+' to 'Mature', and 'Adults only 18+' to 'Adults' only\n",
    "\n",
    "apps['Content Rating'].replace(['Everyone 10+', 'Mature 17+', 'Adults only 18+'], ['10+', 'Mature', 'Adults'], inplace=True)"
   ],
   "execution_count":21,
   "outputs":[
    
   ],
   "metadata":{
    "datalore":{
     "node_id":"avEeb1bQsmIQ3jb2AXIslX",
     "type":"CODE",
     "hide_input_from_viewers":false,
     "hide_output_from_viewers":false
    }
   }
  },
  {
   "cell_type":"code",
   "source":[
    "apps['Content Rating'].unique()"
   ],
   "execution_count":22,
   "outputs":[
    {
     "data":{
      "text\/html":[
       
      ]
     },
     "metadata":{
      
     },
     "output_type":"display_data"
    }
   ],
   "metadata":{
    "datalore":{
     "node_id":"dUe08FvbfKVsBWOPWGJzT0",
     "type":"CODE",
     "hide_input_from_viewers":false,
     "hide_output_from_viewers":false
    }
   }
  },
  {
   "cell_type":"markdown",
   "source":[
    "Now we have corrected the values of Price, Installs, Reviews (if it contains any special character), and Content Rating. Next step is to change their data types\n",
    "Content Rating, Type and Category has discrete values thus are categorical so, change their data type to categorical\n",
    "Price contain floating point number, and Installs and Reviews contain integer values"
   ],
   "attachments":{
    
   },
   "metadata":{
    "datalore":{
     "node_id":"nfK3tSvaMphXdII8apHS0Q",
     "type":"MD",
     "hide_input_from_viewers":false,
     "hide_output_from_viewers":false
    }
   }
  },
  {
   "cell_type":"code",
   "source":[
    "apps['Content Rating'] = apps['Content Rating'].astype('category')"
   ],
   "execution_count":23,
   "outputs":[
    
   ],
   "metadata":{
    "datalore":{
     "node_id":"8ZrfBXMLzyyqCinfuTxZt5",
     "type":"CODE",
     "hide_input_from_viewers":false,
     "hide_output_from_viewers":false
    }
   }
  },
  {
   "cell_type":"code",
   "source":[
    "apps.Price = apps.Price.astype('float64')\n",
    "apps.Installs = apps.Installs.astype('int')\n",
    "apps.Reviews = apps.Reviews.astype('int')\n",
    "apps.Type = apps.Type.astype('category')\n",
    "apps.Category = apps.Category.astype('category')"
   ],
   "execution_count":24,
   "outputs":[
    
   ],
   "metadata":{
    "datalore":{
     "node_id":"VqnTYGAhwlBA2W6y1oIhCX",
     "type":"CODE",
     "hide_input_from_viewers":false,
     "hide_output_from_viewers":false
    }
   }
  },
  {
   "cell_type":"code",
   "source":[
    "# convert genres to category and last updated to datetime object as it contains dates\n",
    "\n",
    "apps.Genres = apps.Genres.astype('category')\n",
    "apps['Last Updated'] = pd.to_datetime(apps['Last Updated'])"
   ],
   "execution_count":25,
   "outputs":[
    
   ],
   "metadata":{
    "datalore":{
     "node_id":"OhrImGHphZuPjm5EEoBIWw",
     "type":"CODE",
     "hide_input_from_viewers":false,
     "hide_output_from_viewers":false
    }
   }
  },
  {
   "cell_type":"code",
   "source":[
    "# check the data type of each attribute\n",
    "\n",
    "apps.info()"
   ],
   "execution_count":26,
   "outputs":[
    {
     "name":"stdout",
     "text":[
      "<class 'pandas.core.frame.DataFrame'>\n",
      "Int64Index: 10356 entries, 0 to 10840\n",
      "Data columns (total 13 columns):\n",
      " #   Column          Non-Null Count  Dtype         \n",
      "---  ------          --------------  -----         \n",
      " 0   App             10356 non-null  object        \n",
      " 1   Category        10356 non-null  category      \n",
      " 2   Rating          8892 non-null   float64       \n",
      " 3   Reviews         10356 non-null  int64         \n",
      " 4   Size            10356 non-null  object        \n",
      " 5   Installs        10356 non-null  int64         \n",
      " 6   Type            10356 non-null  category      \n",
      " 7   Price           10356 non-null  float64       \n",
      " 8   Content Rating  10356 non-null  category      \n",
      " 9   Genres          10356 non-null  category      \n",
      " 10  Last Updated    10356 non-null  datetime64[ns]\n",
      " 11  Current Ver     10348 non-null  object        \n",
      " 12  Android Ver     10354 non-null  object        \n",
      "dtypes: category(4), datetime64[ns](1), float64(2), int64(2), object(4)\n",
      "memory usage: 856.2+ KB\n"
     ],
     "output_type":"stream"
    }
   ],
   "metadata":{
    "datalore":{
     "node_id":"IKEWaYqEo7phDd33eJHvaQ",
     "type":"CODE",
     "hide_input_from_viewers":false,
     "hide_output_from_viewers":false
    }
   }
  },
  {
   "cell_type":"markdown",
   "source":[
    "4. Select Interested\/Informative Attributes Only"
   ],
   "attachments":{
    
   },
   "metadata":{
    "datalore":{
     "node_id":"AhAKuAfAK76SaQSmo10Wit",
     "type":"MD",
     "hide_input_from_viewers":false,
     "hide_output_from_viewers":false
    }
   }
  },
  {
   "cell_type":"markdown",
   "source":[
    "To perform on all attributes without having their need usually considered as illogical thing, So sliced your dataframe before doing EDA everytime. Here, I am not interested in doing analysis on current or android versions of application so I m ignoring these attributes and storing all others as apps2"
   ],
   "attachments":{
    
   },
   "metadata":{
    "datalore":{
     "node_id":"Day827NjHWDnw0bOsV5EOS",
     "type":"MD",
     "hide_input_from_viewers":false,
     "hide_output_from_viewers":false
    }
   }
  },
  {
   "cell_type":"code",
   "source":[
    "# Pick out all rows and columns from 'App' to 'Last Updated' i.e from 0 to 10\n",
    "\n",
    "apps2 = apps.iloc[:, :11]\n",
    "apps2"
   ],
   "execution_count":28,
   "outputs":[
    {
     "data":{
      "text\/html":[
       "<div>\n",
       "<style scoped>\n",
       "    .dataframe tbody tr th:only-of-type {\n",
       "        vertical-align: middle;\n",
       "    }\n",
       "\n",
       "    .dataframe tbody tr th {\n",
       "        vertical-align: top;\n",
       "    }\n",
       "\n",
       "    .dataframe thead th {\n",
       "        text-align: right;\n",
       "    }\n",
       "<\/style>\n",
       "<table border=\"1\" class=\"dataframe\">\n",
       "  <thead>\n",
       "    <tr style=\"text-align: right;\">\n",
       "      <th><\/th>\n",
       "      <th>App<\/th>\n",
       "      <th>Category<\/th>\n",
       "      <th>Rating<\/th>\n",
       "      <th>Reviews<\/th>\n",
       "      <th>Size<\/th>\n",
       "      <th>Installs<\/th>\n",
       "      <th>Type<\/th>\n",
       "      <th>Price<\/th>\n",
       "      <th>Content Rating<\/th>\n",
       "      <th>Genres<\/th>\n",
       "      <th>Last Updated<\/th>\n",
       "    <\/tr>\n",
       "  <\/thead>\n",
       "  <tbody>\n",
       "    <tr>\n",
       "      <th>0<\/th>\n",
       "      <td>Photo Editor &amp; Candy Camera &amp; Grid &amp; ScrapBook<\/td>\n",
       "      <td>ART_AND_DESIGN<\/td>\n",
       "      <td>4.1<\/td>\n",
       "      <td>159<\/td>\n",
       "      <td>19M<\/td>\n",
       "      <td>10000<\/td>\n",
       "      <td>Free<\/td>\n",
       "      <td>0.0<\/td>\n",
       "      <td>Everyone<\/td>\n",
       "      <td>Art &amp; Design<\/td>\n",
       "      <td>2018-01-07<\/td>\n",
       "    <\/tr>\n",
       "    <tr>\n",
       "      <th>1<\/th>\n",
       "      <td>Coloring book moana<\/td>\n",
       "      <td>ART_AND_DESIGN<\/td>\n",
       "      <td>3.9<\/td>\n",
       "      <td>967<\/td>\n",
       "      <td>14M<\/td>\n",
       "      <td>500000<\/td>\n",
       "      <td>Free<\/td>\n",
       "      <td>0.0<\/td>\n",
       "      <td>Everyone<\/td>\n",
       "      <td>Art &amp; Design;Pretend Play<\/td>\n",
       "      <td>2018-01-15<\/td>\n",
       "    <\/tr>\n",
       "    <tr>\n",
       "      <th>2<\/th>\n",
       "      <td>U Launcher Lite – FREE Live Cool Themes, Hide ...<\/td>\n",
       "      <td>ART_AND_DESIGN<\/td>\n",
       "      <td>4.7<\/td>\n",
       "      <td>87510<\/td>\n",
       "      <td>8.7M<\/td>\n",
       "      <td>5000000<\/td>\n",
       "      <td>Free<\/td>\n",
       "      <td>0.0<\/td>\n",
       "      <td>Everyone<\/td>\n",
       "      <td>Art &amp; Design<\/td>\n",
       "      <td>2018-08-01<\/td>\n",
       "    <\/tr>\n",
       "    <tr>\n",
       "      <th>3<\/th>\n",
       "      <td>Sketch - Draw &amp; Paint<\/td>\n",
       "      <td>ART_AND_DESIGN<\/td>\n",
       "      <td>4.5<\/td>\n",
       "      <td>215644<\/td>\n",
       "      <td>25M<\/td>\n",
       "      <td>50000000<\/td>\n",
       "      <td>Free<\/td>\n",
       "      <td>0.0<\/td>\n",
       "      <td>Teen<\/td>\n",
       "      <td>Art &amp; Design<\/td>\n",
       "      <td>2018-06-08<\/td>\n",
       "    <\/tr>\n",
       "    <tr>\n",
       "      <th>4<\/th>\n",
       "      <td>Pixel Draw - Number Art Coloring Book<\/td>\n",
       "      <td>ART_AND_DESIGN<\/td>\n",
       "      <td>4.3<\/td>\n",
       "      <td>967<\/td>\n",
       "      <td>2.8M<\/td>\n",
       "      <td>100000<\/td>\n",
       "      <td>Free<\/td>\n",
       "      <td>0.0<\/td>\n",
       "      <td>Everyone<\/td>\n",
       "      <td>Art &amp; Design;Creativity<\/td>\n",
       "      <td>2018-06-20<\/td>\n",
       "    <\/tr>\n",
       "    <tr>\n",
       "      <th>...<\/th>\n",
       "      <td>...<\/td>\n",
       "      <td>...<\/td>\n",
       "      <td>...<\/td>\n",
       "      <td>...<\/td>\n",
       "      <td>...<\/td>\n",
       "      <td>...<\/td>\n",
       "      <td>...<\/td>\n",
       "      <td>...<\/td>\n",
       "      <td>...<\/td>\n",
       "      <td>...<\/td>\n",
       "      <td>...<\/td>\n",
       "    <\/tr>\n",
       "    <tr>\n",
       "      <th>10836<\/th>\n",
       "      <td>Sya9a Maroc - FR<\/td>\n",
       "      <td>FAMILY<\/td>\n",
       "      <td>4.5<\/td>\n",
       "      <td>38<\/td>\n",
       "      <td>53M<\/td>\n",
       "      <td>5000<\/td>\n",
       "      <td>Free<\/td>\n",
       "      <td>0.0<\/td>\n",
       "      <td>Everyone<\/td>\n",
       "      <td>Education<\/td>\n",
       "      <td>2017-07-25<\/td>\n",
       "    <\/tr>\n",
       "    <tr>\n",
       "      <th>10837<\/th>\n",
       "      <td>Fr. Mike Schmitz Audio Teachings<\/td>\n",
       "      <td>FAMILY<\/td>\n",
       "      <td>5.0<\/td>\n",
       "      <td>4<\/td>\n",
       "      <td>3.6M<\/td>\n",
       "      <td>100<\/td>\n",
       "      <td>Free<\/td>\n",
       "      <td>0.0<\/td>\n",
       "      <td>Everyone<\/td>\n",
       "      <td>Education<\/td>\n",
       "      <td>2018-07-06<\/td>\n",
       "    <\/tr>\n",
       "    <tr>\n",
       "      <th>10838<\/th>\n",
       "      <td>Parkinson Exercices FR<\/td>\n",
       "      <td>MEDICAL<\/td>\n",
       "      <td>NaN<\/td>\n",
       "      <td>3<\/td>\n",
       "      <td>9.5M<\/td>\n",
       "      <td>1000<\/td>\n",
       "      <td>Free<\/td>\n",
       "      <td>0.0<\/td>\n",
       "      <td>Everyone<\/td>\n",
       "      <td>Medical<\/td>\n",
       "      <td>2017-01-20<\/td>\n",
       "    <\/tr>\n",
       "    <tr>\n",
       "      <th>10839<\/th>\n",
       "      <td>The SCP Foundation DB fr nn5n<\/td>\n",
       "      <td>BOOKS_AND_REFERENCE<\/td>\n",
       "      <td>4.5<\/td>\n",
       "      <td>114<\/td>\n",
       "      <td>Varies with device<\/td>\n",
       "      <td>1000<\/td>\n",
       "      <td>Free<\/td>\n",
       "      <td>0.0<\/td>\n",
       "      <td>Mature<\/td>\n",
       "      <td>Books &amp; Reference<\/td>\n",
       "      <td>2015-01-19<\/td>\n",
       "    <\/tr>\n",
       "    <tr>\n",
       "      <th>10840<\/th>\n",
       "      <td>iHoroscope - 2018 Daily Horoscope &amp; Astrology<\/td>\n",
       "      <td>LIFESTYLE<\/td>\n",
       "      <td>4.5<\/td>\n",
       "      <td>398307<\/td>\n",
       "      <td>19M<\/td>\n",
       "      <td>10000000<\/td>\n",
       "      <td>Free<\/td>\n",
       "      <td>0.0<\/td>\n",
       "      <td>Everyone<\/td>\n",
       "      <td>Lifestyle<\/td>\n",
       "      <td>2018-07-25<\/td>\n",
       "    <\/tr>\n",
       "  <\/tbody>\n",
       "<\/table>\n",
       "<p>10356 rows × 11 columns<\/p>\n",
       "<\/div>"
      ]
     },
     "metadata":{
      
     },
     "output_type":"display_data"
    }
   ],
   "metadata":{
    "datalore":{
     "node_id":"4RB5EEbvlZ6K5WqQeYFFsz",
     "type":"CODE",
     "hide_input_from_viewers":false,
     "hide_output_from_viewers":false
    }
   }
  },
  {
   "cell_type":"markdown",
   "source":[
    "EXPLORATORY DATA ANALYSIS"
   ],
   "attachments":{
    
   },
   "metadata":{
    "datalore":{
     "node_id":"HewMO0ehC92ysAj1iscUsU",
     "type":"MD",
     "hide_input_from_viewers":false,
     "hide_output_from_viewers":false
    }
   }
  },
  {
   "cell_type":"markdown",
   "source":[
    "Most Rated Apps (Top 10)"
   ],
   "attachments":{
    
   },
   "metadata":{
    "datalore":{
     "node_id":"TdnRc72HvzhUlCCxStOlGC",
     "type":"MD",
     "hide_input_from_viewers":false,
     "hide_output_from_viewers":false
    }
   }
  },
  {
   "cell_type":"code",
   "source":[
    "top_rated = apps2.nlargest(10, 'Rating')"
   ],
   "execution_count":29,
   "outputs":[
    
   ],
   "metadata":{
    "datalore":{
     "node_id":"B2yRDuKJSGLjfjWKSmg76g",
     "type":"CODE",
     "hide_input_from_viewers":false,
     "hide_output_from_viewers":false
    }
   }
  },
  {
   "cell_type":"markdown",
   "source":[
    "Categories of Highly Rated Apps"
   ],
   "attachments":{
    
   },
   "metadata":{
    "datalore":{
     "node_id":"44kpF1Ad34iucOACuKWPBA",
     "type":"MD",
     "hide_input_from_viewers":false,
     "hide_output_from_viewers":false
    }
   }
  },
  {
   "cell_type":"code",
   "source":[
    "sns.set_style('darkgrid')\n",
    "plt.hist(top_rated['Genres'])\n",
    "plt.xlabel('Category of 10 highly rated Apps')\n",
    "plt.ylabel('Count')\n",
    "plt.margins(0.10)\n",
    "plt.show()"
   ],
   "execution_count":30,
   "outputs":[
    {
     "data":{
      "image\/png":"[encoded data removed]"
     },
     "metadata":{
      "image\/png":{
       
      }
     },
     "output_type":"display_data"
    }
   ],
   "metadata":{
    "datalore":{
     "node_id":"6rAdsP7Y8E5PCumQTAI7XN",
     "type":"CODE",
     "hide_input_from_viewers":false,
     "hide_output_from_viewers":false
    }
   }
  },
  {
   "cell_type":"markdown",
   "source":[
    "Out of 10 highly rated applications, 6 were of type 'DATING' , 3 were of type 'EVENTS', and only 1 belongs to the category of 'COMICS'"
   ],
   "attachments":{
    
   },
   "metadata":{
    "datalore":{
     "node_id":"WLHRB3jiNYtQ22mN2gBOB9",
     "type":"MD",
     "hide_input_from_viewers":false,
     "hide_output_from_viewers":false
    }
   }
  },
  {
   "cell_type":"markdown",
   "source":[
    "Exploring Categories of applications"
   ],
   "attachments":{
    
   },
   "metadata":{
    "datalore":{
     "node_id":"JpOiLhaSje60K6TggVeenH",
     "type":"MD",
     "hide_input_from_viewers":false,
     "hide_output_from_viewers":false
    }
   }
  },
  {
   "cell_type":"code",
   "source":[
    "#Number of categories\n",
    "print(\"Total Categories: {}\".format(len(apps2.Category.unique())))\n",
    "\n",
    "plt.figure(figsize=[15, 6])\n",
    "sns.set_context('talk')\n",
    "sns.countplot(x='Category', data = apps2, order=apps2.Category.value_counts().index)\n",
    "plt.xticks(rotation=90)\n",
    "\n",
    "plt.show()"
   ],
   "execution_count":31,
   "outputs":[
    {
     "name":"stdout",
     "text":[
      "Total Categories: 33\n"
     ],
     "output_type":"stream"
    },
    {
     "data":{
      "image\/png":"[encoded data removed]"
     },
     "metadata":{
      "image\/png":{
       
      }
     },
     "output_type":"display_data"
    }
   ],
   "metadata":{
    "datalore":{
     "node_id":"5icis5K7BQzRdFpJnKuqgs",
     "type":"CODE",
     "hide_input_from_viewers":false,
     "hide_output_from_viewers":false
    }
   }
  },
  {
   "cell_type":"markdown",
   "source":[
    "Most of the applications belongs to the category of FAMILY, then GAMES, and then TOOLS, BUSINESS and MEDICAL. The rest have less count or less innovations"
   ],
   "attachments":{
    
   },
   "metadata":{
    "datalore":{
     "node_id":"WBSBaHG9oingYHkbnnjzcC",
     "type":"MD",
     "hide_input_from_viewers":false,
     "hide_output_from_viewers":false
    }
   }
  },
  {
   "cell_type":"markdown",
   "source":[
    "Impact of Price on app installations"
   ],
   "attachments":{
    
   },
   "metadata":{
    "datalore":{
     "node_id":"xETRtp62UQtcnZULSXVTTo",
     "type":"MD",
     "hide_input_from_viewers":false,
     "hide_output_from_viewers":false
    }
   }
  },
  {
   "cell_type":"code",
   "source":[
    "installs = apps2.groupby('Type')['Installs'].agg('sum')"
   ],
   "execution_count":32,
   "outputs":[
    
   ],
   "metadata":{
    "datalore":{
     "node_id":"g7VcvO5BZ6BntRGb726aH4",
     "type":"CODE",
     "hide_input_from_viewers":false,
     "hide_output_from_viewers":false
    }
   }
  },
  {
   "cell_type":"markdown",
   "source":[
    "People usually tend to install and use free application as compared to paid, Now we can analyze the impact of price on apps rating"
   ],
   "attachments":{
    
   },
   "metadata":{
    "datalore":{
     "node_id":"3TnAJhNTz54ADdGYgrhQdI",
     "type":"MD",
     "hide_input_from_viewers":false,
     "hide_output_from_viewers":false
    }
   }
  },
  {
   "cell_type":"markdown",
   "source":[
    "Distribution of App Ratings"
   ],
   "attachments":{
    
   },
   "metadata":{
    "datalore":{
     "node_id":"t6ZDuURHyuTqwjhaW8U5vr",
     "type":"MD",
     "hide_input_from_viewers":false,
     "hide_output_from_viewers":false
    }
   }
  },
  {
   "cell_type":"code",
   "source":[
    "# Distribution of paid and unpaid applications rating\n",
    "\n",
    "avg_rating = apps2.Rating.mean()\n",
    "print(\"Average Rating: {}\".format(avg_rating))\n",
    "\n",
    "sns.displot(data=apps2, x='Rating', kde=True, hue='Type', height=8, aspect=1.2)\n",
    "plt.axvline(avg_rating, linestyle='--', color = 'red', linewidth = 2.0)\n",
    "plt.text(3.3, 800, 'Average Rating -->', color = 'red', fontsize=14)\n",
    "plt.title('PDF or Distribution of Rating with Type', fontsize=18)\n",
    "plt.show()"
   ],
   "execution_count":33,
   "outputs":[
    {
     "name":"stdout",
     "text":[
      "Average Rating: 4.187876743139902\n"
     ],
     "output_type":"stream"
    },
    {
     "data":{
      "image\/png":"[encoded data removed]"
     },
     "metadata":{
      "image\/png":{
       
      }
     },
     "output_type":"display_data"
    }
   ],
   "metadata":{
    "datalore":{
     "node_id":"9wud4uxOer0eNPwcpQ2usX",
     "type":"CODE",
     "hide_input_from_viewers":false,
     "hide_output_from_viewers":false
    }
   }
  },
  {
   "cell_type":"markdown",
   "source":[
    "Mean average rating is approx 4.2. We can say that rating is negatively skewed or exponentially increasing. But for Paid apps ratio of rating is quite less than Free apps. To confirm the distribution of rating we can plot ecdf"
   ],
   "attachments":{
    
   },
   "metadata":{
    "datalore":{
     "node_id":"SqJn9SuNVS2IXILMpYKZoM",
     "type":"MD",
     "hide_input_from_viewers":false,
     "hide_output_from_viewers":false
    }
   }
  },
  {
   "cell_type":"code",
   "source":[
    "# to confirm that the distribution of rating is negatively skewed, \n",
    "# we are using empirical commulative distribution function\n",
    "\n",
    "plt.figure(figsize=[15, 6])\n",
    "sns.ecdfplot(data = apps2, x='Rating', hue='Type', legend=True)\n",
    "plt.title(\"ECDF of Rating\", fontsize=16)\n",
    "plt.show()"
   ],
   "execution_count":34,
   "outputs":[
    {
     "data":{
      "image\/png":"[encoded data removed]"
     },
     "metadata":{
      "image\/png":{
       
      }
     },
     "output_type":"display_data"
    }
   ],
   "metadata":{
    "datalore":{
     "node_id":"mnPAfPJXSEAWYISSTarBat",
     "type":"CODE",
     "hide_input_from_viewers":false,
     "hide_output_from_viewers":false
    }
   }
  },
  {
   "cell_type":"markdown",
   "source":[
    "Free and Paid Apps rating is negatively skewed ass tail extends from left hand side"
   ],
   "attachments":{
    
   },
   "metadata":{
    "datalore":{
     "node_id":"8yf7MLfj9qhKyDyoHzljFN",
     "type":"MD",
     "hide_input_from_viewers":false,
     "hide_output_from_viewers":false
    }
   }
  },
  {
   "cell_type":"markdown",
   "source":[
    "Apps rating with respect to size of application"
   ],
   "attachments":{
    
   },
   "metadata":{
    "datalore":{
     "node_id":"YDIgDMHxN5L8HyzmG9RMPO",
     "type":"MD",
     "hide_input_from_viewers":false,
     "hide_output_from_viewers":false
    }
   }
  },
  {
   "cell_type":"code",
   "source":[
    "apps_with_size = apps2"
   ],
   "execution_count":35,
   "outputs":[
    
   ],
   "metadata":{
    "datalore":{
     "node_id":"31PoDdlizYXY06CrOC8hvF",
     "type":"CODE",
     "hide_input_from_viewers":false,
     "hide_output_from_viewers":false
    }
   }
  },
  {
   "cell_type":"code",
   "source":[
    "apps_with_size['size_unit'] = ['KB' if x.endswith('k')\\\n",
    "                                else 'MB' if x.endswith('M') else 'Varies with device'\\\n",
    "                                for x in apps2.Size]"
   ],
   "execution_count":36,
   "outputs":[
    
   ],
   "metadata":{
    "datalore":{
     "node_id":"8zfAeOqm2ZT4OQLGw0j6JK",
     "type":"CODE",
     "hide_input_from_viewers":false,
     "hide_output_from_viewers":false
    }
   }
  },
  {
   "cell_type":"code",
   "source":[
    "apps_with_size.head()"
   ],
   "execution_count":37,
   "outputs":[
    {
     "data":{
      "text\/html":[
       "<div>\n",
       "<style scoped>\n",
       "    .dataframe tbody tr th:only-of-type {\n",
       "        vertical-align: middle;\n",
       "    }\n",
       "\n",
       "    .dataframe tbody tr th {\n",
       "        vertical-align: top;\n",
       "    }\n",
       "\n",
       "    .dataframe thead th {\n",
       "        text-align: right;\n",
       "    }\n",
       "<\/style>\n",
       "<table border=\"1\" class=\"dataframe\">\n",
       "  <thead>\n",
       "    <tr style=\"text-align: right;\">\n",
       "      <th><\/th>\n",
       "      <th>App<\/th>\n",
       "      <th>Category<\/th>\n",
       "      <th>Rating<\/th>\n",
       "      <th>Reviews<\/th>\n",
       "      <th>Size<\/th>\n",
       "      <th>Installs<\/th>\n",
       "      <th>Type<\/th>\n",
       "      <th>Price<\/th>\n",
       "      <th>Content Rating<\/th>\n",
       "      <th>Genres<\/th>\n",
       "      <th>Last Updated<\/th>\n",
       "      <th>size_unit<\/th>\n",
       "    <\/tr>\n",
       "  <\/thead>\n",
       "  <tbody>\n",
       "    <tr>\n",
       "      <th>0<\/th>\n",
       "      <td>Photo Editor &amp; Candy Camera &amp; Grid &amp; ScrapBook<\/td>\n",
       "      <td>ART_AND_DESIGN<\/td>\n",
       "      <td>4.1<\/td>\n",
       "      <td>159<\/td>\n",
       "      <td>19M<\/td>\n",
       "      <td>10000<\/td>\n",
       "      <td>Free<\/td>\n",
       "      <td>0.0<\/td>\n",
       "      <td>Everyone<\/td>\n",
       "      <td>Art &amp; Design<\/td>\n",
       "      <td>2018-01-07<\/td>\n",
       "      <td>MB<\/td>\n",
       "    <\/tr>\n",
       "    <tr>\n",
       "      <th>1<\/th>\n",
       "      <td>Coloring book moana<\/td>\n",
       "      <td>ART_AND_DESIGN<\/td>\n",
       "      <td>3.9<\/td>\n",
       "      <td>967<\/td>\n",
       "      <td>14M<\/td>\n",
       "      <td>500000<\/td>\n",
       "      <td>Free<\/td>\n",
       "      <td>0.0<\/td>\n",
       "      <td>Everyone<\/td>\n",
       "      <td>Art &amp; Design;Pretend Play<\/td>\n",
       "      <td>2018-01-15<\/td>\n",
       "      <td>MB<\/td>\n",
       "    <\/tr>\n",
       "    <tr>\n",
       "      <th>2<\/th>\n",
       "      <td>U Launcher Lite – FREE Live Cool Themes, Hide ...<\/td>\n",
       "      <td>ART_AND_DESIGN<\/td>\n",
       "      <td>4.7<\/td>\n",
       "      <td>87510<\/td>\n",
       "      <td>8.7M<\/td>\n",
       "      <td>5000000<\/td>\n",
       "      <td>Free<\/td>\n",
       "      <td>0.0<\/td>\n",
       "      <td>Everyone<\/td>\n",
       "      <td>Art &amp; Design<\/td>\n",
       "      <td>2018-08-01<\/td>\n",
       "      <td>MB<\/td>\n",
       "    <\/tr>\n",
       "    <tr>\n",
       "      <th>3<\/th>\n",
       "      <td>Sketch - Draw &amp; Paint<\/td>\n",
       "      <td>ART_AND_DESIGN<\/td>\n",
       "      <td>4.5<\/td>\n",
       "      <td>215644<\/td>\n",
       "      <td>25M<\/td>\n",
       "      <td>50000000<\/td>\n",
       "      <td>Free<\/td>\n",
       "      <td>0.0<\/td>\n",
       "      <td>Teen<\/td>\n",
       "      <td>Art &amp; Design<\/td>\n",
       "      <td>2018-06-08<\/td>\n",
       "      <td>MB<\/td>\n",
       "    <\/tr>\n",
       "    <tr>\n",
       "      <th>4<\/th>\n",
       "      <td>Pixel Draw - Number Art Coloring Book<\/td>\n",
       "      <td>ART_AND_DESIGN<\/td>\n",
       "      <td>4.3<\/td>\n",
       "      <td>967<\/td>\n",
       "      <td>2.8M<\/td>\n",
       "      <td>100000<\/td>\n",
       "      <td>Free<\/td>\n",
       "      <td>0.0<\/td>\n",
       "      <td>Everyone<\/td>\n",
       "      <td>Art &amp; Design;Creativity<\/td>\n",
       "      <td>2018-06-20<\/td>\n",
       "      <td>MB<\/td>\n",
       "    <\/tr>\n",
       "  <\/tbody>\n",
       "<\/table>\n",
       "<\/div>"
      ]
     },
     "metadata":{
      
     },
     "output_type":"display_data"
    }
   ],
   "metadata":{
    "datalore":{
     "node_id":"1v4CMxPIhnWor6Xffc8vBi",
     "type":"CODE",
     "hide_input_from_viewers":false,
     "hide_output_from_viewers":false
    }
   }
  },
  {
   "cell_type":"code",
   "source":[
    "sns.displot(data=apps_with_size, x='Rating', kde=True, hue='Type', height=4, aspect=1.5, col='size_unit')\n",
    "plt.show()"
   ],
   "execution_count":38,
   "outputs":[
    {
     "data":{
      "image\/png":"[encoded data removed]"
     },
     "metadata":{
      "image\/png":{
       
      }
     },
     "output_type":"display_data"
    }
   ],
   "metadata":{
    "datalore":{
     "node_id":"DqTMAyCEC23iiz5Idz7L75",
     "type":"CODE",
     "hide_input_from_viewers":false,
     "hide_output_from_viewers":false
    }
   }
  },
  {
   "cell_type":"markdown",
   "source":[
    "Large free applications tends to have more rating as compared to small applications (in kilobytes)\n",
    "Application with varying size have more rating if they are unpaid"
   ],
   "attachments":{
    
   },
   "metadata":{
    "datalore":{
     "node_id":"m6l6rOWiev21TXAP4Rx7tK",
     "type":"MD",
     "hide_input_from_viewers":false,
     "hide_output_from_viewers":false
    }
   }
  },
  {
   "cell_type":"markdown",
   "source":[
    "Category Vs Price"
   ],
   "attachments":{
    
   },
   "metadata":{
    "datalore":{
     "node_id":"gPUqB0JW3qwGnGPJq8gIJ9",
     "type":"MD",
     "hide_input_from_viewers":false,
     "hide_output_from_viewers":false
    }
   }
  },
  {
   "cell_type":"code",
   "source":[
    "#apps_with_price = apps2[apps2.Type == 'Paid']\n",
    "\n",
    "apps_with_price = apps2.loc[(apps2.Type == 'Paid')]\n",
    "apps_with_price.head()"
   ],
   "execution_count":39,
   "outputs":[
    {
     "data":{
      "text\/html":[
       "<div>\n",
       "<style scoped>\n",
       "    .dataframe tbody tr th:only-of-type {\n",
       "        vertical-align: middle;\n",
       "    }\n",
       "\n",
       "    .dataframe tbody tr th {\n",
       "        vertical-align: top;\n",
       "    }\n",
       "\n",
       "    .dataframe thead th {\n",
       "        text-align: right;\n",
       "    }\n",
       "<\/style>\n",
       "<table border=\"1\" class=\"dataframe\">\n",
       "  <thead>\n",
       "    <tr style=\"text-align: right;\">\n",
       "      <th><\/th>\n",
       "      <th>App<\/th>\n",
       "      <th>Category<\/th>\n",
       "      <th>Rating<\/th>\n",
       "      <th>Reviews<\/th>\n",
       "      <th>Size<\/th>\n",
       "      <th>Installs<\/th>\n",
       "      <th>Type<\/th>\n",
       "      <th>Price<\/th>\n",
       "      <th>Content Rating<\/th>\n",
       "      <th>Genres<\/th>\n",
       "      <th>Last Updated<\/th>\n",
       "      <th>size_unit<\/th>\n",
       "    <\/tr>\n",
       "  <\/thead>\n",
       "  <tbody>\n",
       "    <tr>\n",
       "      <th>234<\/th>\n",
       "      <td>TurboScan: scan documents and receipts in PDF<\/td>\n",
       "      <td>BUSINESS<\/td>\n",
       "      <td>4.7<\/td>\n",
       "      <td>11442<\/td>\n",
       "      <td>6.8M<\/td>\n",
       "      <td>100000<\/td>\n",
       "      <td>Paid<\/td>\n",
       "      <td>4.99<\/td>\n",
       "      <td>Everyone<\/td>\n",
       "      <td>Business<\/td>\n",
       "      <td>2018-03-25<\/td>\n",
       "      <td>MB<\/td>\n",
       "    <\/tr>\n",
       "    <tr>\n",
       "      <th>235<\/th>\n",
       "      <td>Tiny Scanner Pro: PDF Doc Scan<\/td>\n",
       "      <td>BUSINESS<\/td>\n",
       "      <td>4.8<\/td>\n",
       "      <td>10295<\/td>\n",
       "      <td>39M<\/td>\n",
       "      <td>100000<\/td>\n",
       "      <td>Paid<\/td>\n",
       "      <td>4.99<\/td>\n",
       "      <td>Everyone<\/td>\n",
       "      <td>Business<\/td>\n",
       "      <td>2017-04-11<\/td>\n",
       "      <td>MB<\/td>\n",
       "    <\/tr>\n",
       "    <tr>\n",
       "      <th>427<\/th>\n",
       "      <td>Puffin Browser Pro<\/td>\n",
       "      <td>COMMUNICATION<\/td>\n",
       "      <td>4.0<\/td>\n",
       "      <td>18247<\/td>\n",
       "      <td>Varies with device<\/td>\n",
       "      <td>100000<\/td>\n",
       "      <td>Paid<\/td>\n",
       "      <td>3.99<\/td>\n",
       "      <td>Everyone<\/td>\n",
       "      <td>Communication<\/td>\n",
       "      <td>2018-07-05<\/td>\n",
       "      <td>Varies with device<\/td>\n",
       "    <\/tr>\n",
       "    <tr>\n",
       "      <th>476<\/th>\n",
       "      <td>Moco+ - Chat, Meet People<\/td>\n",
       "      <td>DATING<\/td>\n",
       "      <td>4.2<\/td>\n",
       "      <td>1545<\/td>\n",
       "      <td>Varies with device<\/td>\n",
       "      <td>10000<\/td>\n",
       "      <td>Paid<\/td>\n",
       "      <td>3.99<\/td>\n",
       "      <td>Mature<\/td>\n",
       "      <td>Dating<\/td>\n",
       "      <td>2018-06-19<\/td>\n",
       "      <td>Varies with device<\/td>\n",
       "    <\/tr>\n",
       "    <tr>\n",
       "      <th>477<\/th>\n",
       "      <td>Calculator<\/td>\n",
       "      <td>DATING<\/td>\n",
       "      <td>2.6<\/td>\n",
       "      <td>57<\/td>\n",
       "      <td>6.2M<\/td>\n",
       "      <td>1000<\/td>\n",
       "      <td>Paid<\/td>\n",
       "      <td>6.99<\/td>\n",
       "      <td>Everyone<\/td>\n",
       "      <td>Dating<\/td>\n",
       "      <td>2017-10-25<\/td>\n",
       "      <td>MB<\/td>\n",
       "    <\/tr>\n",
       "  <\/tbody>\n",
       "<\/table>\n",
       "<\/div>"
      ]
     },
     "metadata":{
      
     },
     "output_type":"display_data"
    }
   ],
   "metadata":{
    "datalore":{
     "node_id":"kIuSafJpO32bVQEJXJ8sW7",
     "type":"CODE",
     "hide_input_from_viewers":false,
     "hide_output_from_viewers":false
    }
   }
  },
  {
   "cell_type":"code",
   "source":[
    "plt.figure(figsize = [15, 10])\n",
    "sns.set_context('paper')\n",
    "sns.stripplot(y='Category', x='Price', data=apps_with_price,\\\n",
    "              jitter=True, size=6, palette='plasma', marker='D')\n",
    "plt.axvline(apps_with_price.Price.mean(), linewidth=1.5, linestyle='-')\n",
    "plt.text(20, 2, '<-- Average Price', fontsize=15, color='red')\n",
    "plt.show()"
   ],
   "execution_count":40,
   "outputs":[
    {
     "data":{
      "image\/png":"[encoded data removed]"
     },
     "metadata":{
      "image\/png":{
       
      }
     },
     "output_type":"display_data"
    }
   ],
   "metadata":{
    "datalore":{
     "node_id":"dV15DCIN5Op4J8ogQXpywF",
     "type":"CODE",
     "hide_input_from_viewers":false,
     "hide_output_from_viewers":false
    }
   }
  },
  {
   "cell_type":"markdown",
   "source":[
    "It's hard to interpret which type of applications have generally have high prices for their installation. So, let's find out those categories with high prices"
   ],
   "attachments":{
    
   },
   "metadata":{
    "datalore":{
     "node_id":"yj7SkzEpFtcRpML9wWkTum",
     "type":"MD",
     "hide_input_from_viewers":false,
     "hide_output_from_viewers":false
    }
   }
  },
  {
   "cell_type":"markdown",
   "source":[
    "Applications with High Prices"
   ],
   "attachments":{
    
   },
   "metadata":{
    "datalore":{
     "node_id":"iGwJ9HgwXrfigvj6eVKlIc",
     "type":"MD",
     "hide_input_from_viewers":false,
     "hide_output_from_viewers":false
    }
   }
  },
  {
   "cell_type":"code",
   "source":[
    "#high_prices = apps_with_price[apps_with_price.Price >= 250]\n",
    "\n",
    "high_prices = apps_with_price.loc[(apps_with_price.Price >= 250)]\n",
    "high_prices"
   ],
   "execution_count":41,
   "outputs":[
    {
     "data":{
      "text\/html":[
       "<div>\n",
       "<style scoped>\n",
       "    .dataframe tbody tr th:only-of-type {\n",
       "        vertical-align: middle;\n",
       "    }\n",
       "\n",
       "    .dataframe tbody tr th {\n",
       "        vertical-align: top;\n",
       "    }\n",
       "\n",
       "    .dataframe thead th {\n",
       "        text-align: right;\n",
       "    }\n",
       "<\/style>\n",
       "<table border=\"1\" class=\"dataframe\">\n",
       "  <thead>\n",
       "    <tr style=\"text-align: right;\">\n",
       "      <th><\/th>\n",
       "      <th>App<\/th>\n",
       "      <th>Category<\/th>\n",
       "      <th>Rating<\/th>\n",
       "      <th>Reviews<\/th>\n",
       "      <th>Size<\/th>\n",
       "      <th>Installs<\/th>\n",
       "      <th>Type<\/th>\n",
       "      <th>Price<\/th>\n",
       "      <th>Content Rating<\/th>\n",
       "      <th>Genres<\/th>\n",
       "      <th>Last Updated<\/th>\n",
       "      <th>size_unit<\/th>\n",
       "    <\/tr>\n",
       "  <\/thead>\n",
       "  <tbody>\n",
       "    <tr>\n",
       "      <th>4197<\/th>\n",
       "      <td>most expensive app (H)<\/td>\n",
       "      <td>FAMILY<\/td>\n",
       "      <td>4.3<\/td>\n",
       "      <td>6<\/td>\n",
       "      <td>1.5M<\/td>\n",
       "      <td>100<\/td>\n",
       "      <td>Paid<\/td>\n",
       "      <td>399.99<\/td>\n",
       "      <td>Everyone<\/td>\n",
       "      <td>Entertainment<\/td>\n",
       "      <td>2018-07-16<\/td>\n",
       "      <td>MB<\/td>\n",
       "    <\/tr>\n",
       "    <tr>\n",
       "      <th>4362<\/th>\n",
       "      <td>💎 I'm rich<\/td>\n",
       "      <td>LIFESTYLE<\/td>\n",
       "      <td>3.8<\/td>\n",
       "      <td>718<\/td>\n",
       "      <td>26M<\/td>\n",
       "      <td>10000<\/td>\n",
       "      <td>Paid<\/td>\n",
       "      <td>399.99<\/td>\n",
       "      <td>Everyone<\/td>\n",
       "      <td>Lifestyle<\/td>\n",
       "      <td>2018-03-11<\/td>\n",
       "      <td>MB<\/td>\n",
       "    <\/tr>\n",
       "    <tr>\n",
       "      <th>4367<\/th>\n",
       "      <td>I'm Rich - Trump Edition<\/td>\n",
       "      <td>LIFESTYLE<\/td>\n",
       "      <td>3.6<\/td>\n",
       "      <td>275<\/td>\n",
       "      <td>7.3M<\/td>\n",
       "      <td>10000<\/td>\n",
       "      <td>Paid<\/td>\n",
       "      <td>400.00<\/td>\n",
       "      <td>Everyone<\/td>\n",
       "      <td>Lifestyle<\/td>\n",
       "      <td>2018-05-03<\/td>\n",
       "      <td>MB<\/td>\n",
       "    <\/tr>\n",
       "    <tr>\n",
       "      <th>5351<\/th>\n",
       "      <td>I am rich<\/td>\n",
       "      <td>LIFESTYLE<\/td>\n",
       "      <td>3.8<\/td>\n",
       "      <td>3547<\/td>\n",
       "      <td>1.8M<\/td>\n",
       "      <td>100000<\/td>\n",
       "      <td>Paid<\/td>\n",
       "      <td>399.99<\/td>\n",
       "      <td>Everyone<\/td>\n",
       "      <td>Lifestyle<\/td>\n",
       "      <td>2018-01-12<\/td>\n",
       "      <td>MB<\/td>\n",
       "    <\/tr>\n",
       "    <tr>\n",
       "      <th>5354<\/th>\n",
       "      <td>I am Rich Plus<\/td>\n",
       "      <td>FAMILY<\/td>\n",
       "      <td>4.0<\/td>\n",
       "      <td>856<\/td>\n",
       "      <td>8.7M<\/td>\n",
       "      <td>10000<\/td>\n",
       "      <td>Paid<\/td>\n",
       "      <td>399.99<\/td>\n",
       "      <td>Everyone<\/td>\n",
       "      <td>Entertainment<\/td>\n",
       "      <td>2018-05-19<\/td>\n",
       "      <td>MB<\/td>\n",
       "    <\/tr>\n",
       "    <tr>\n",
       "      <th>5355<\/th>\n",
       "      <td>I am rich VIP<\/td>\n",
       "      <td>LIFESTYLE<\/td>\n",
       "      <td>3.8<\/td>\n",
       "      <td>411<\/td>\n",
       "      <td>2.6M<\/td>\n",
       "      <td>10000<\/td>\n",
       "      <td>Paid<\/td>\n",
       "      <td>299.99<\/td>\n",
       "      <td>Everyone<\/td>\n",
       "      <td>Lifestyle<\/td>\n",
       "      <td>2018-07-21<\/td>\n",
       "      <td>MB<\/td>\n",
       "    <\/tr>\n",
       "    <tr>\n",
       "      <th>5356<\/th>\n",
       "      <td>I Am Rich Premium<\/td>\n",
       "      <td>FINANCE<\/td>\n",
       "      <td>4.1<\/td>\n",
       "      <td>1867<\/td>\n",
       "      <td>4.7M<\/td>\n",
       "      <td>50000<\/td>\n",
       "      <td>Paid<\/td>\n",
       "      <td>399.99<\/td>\n",
       "      <td>Everyone<\/td>\n",
       "      <td>Finance<\/td>\n",
       "      <td>2017-11-12<\/td>\n",
       "      <td>MB<\/td>\n",
       "    <\/tr>\n",
       "    <tr>\n",
       "      <th>5357<\/th>\n",
       "      <td>I am extremely Rich<\/td>\n",
       "      <td>LIFESTYLE<\/td>\n",
       "      <td>2.9<\/td>\n",
       "      <td>41<\/td>\n",
       "      <td>2.9M<\/td>\n",
       "      <td>1000<\/td>\n",
       "      <td>Paid<\/td>\n",
       "      <td>379.99<\/td>\n",
       "      <td>Everyone<\/td>\n",
       "      <td>Lifestyle<\/td>\n",
       "      <td>2018-07-01<\/td>\n",
       "      <td>MB<\/td>\n",
       "    <\/tr>\n",
       "    <tr>\n",
       "      <th>5358<\/th>\n",
       "      <td>I am Rich!<\/td>\n",
       "      <td>FINANCE<\/td>\n",
       "      <td>3.8<\/td>\n",
       "      <td>93<\/td>\n",
       "      <td>22M<\/td>\n",
       "      <td>1000<\/td>\n",
       "      <td>Paid<\/td>\n",
       "      <td>399.99<\/td>\n",
       "      <td>Everyone<\/td>\n",
       "      <td>Finance<\/td>\n",
       "      <td>2017-12-11<\/td>\n",
       "      <td>MB<\/td>\n",
       "    <\/tr>\n",
       "    <tr>\n",
       "      <th>5359<\/th>\n",
       "      <td>I am rich(premium)<\/td>\n",
       "      <td>FINANCE<\/td>\n",
       "      <td>3.5<\/td>\n",
       "      <td>472<\/td>\n",
       "      <td>965k<\/td>\n",
       "      <td>5000<\/td>\n",
       "      <td>Paid<\/td>\n",
       "      <td>399.99<\/td>\n",
       "      <td>Everyone<\/td>\n",
       "      <td>Finance<\/td>\n",
       "      <td>2017-05-01<\/td>\n",
       "      <td>KB<\/td>\n",
       "    <\/tr>\n",
       "    <tr>\n",
       "      <th>5362<\/th>\n",
       "      <td>I Am Rich Pro<\/td>\n",
       "      <td>FAMILY<\/td>\n",
       "      <td>4.4<\/td>\n",
       "      <td>201<\/td>\n",
       "      <td>2.7M<\/td>\n",
       "      <td>5000<\/td>\n",
       "      <td>Paid<\/td>\n",
       "      <td>399.99<\/td>\n",
       "      <td>Everyone<\/td>\n",
       "      <td>Entertainment<\/td>\n",
       "      <td>2017-05-30<\/td>\n",
       "      <td>MB<\/td>\n",
       "    <\/tr>\n",
       "    <tr>\n",
       "      <th>5364<\/th>\n",
       "      <td>I am rich (Most expensive app)<\/td>\n",
       "      <td>FINANCE<\/td>\n",
       "      <td>4.1<\/td>\n",
       "      <td>129<\/td>\n",
       "      <td>2.7M<\/td>\n",
       "      <td>1000<\/td>\n",
       "      <td>Paid<\/td>\n",
       "      <td>399.99<\/td>\n",
       "      <td>Teen<\/td>\n",
       "      <td>Finance<\/td>\n",
       "      <td>2017-12-06<\/td>\n",
       "      <td>MB<\/td>\n",
       "    <\/tr>\n",
       "    <tr>\n",
       "      <th>5366<\/th>\n",
       "      <td>I Am Rich<\/td>\n",
       "      <td>FAMILY<\/td>\n",
       "      <td>3.6<\/td>\n",
       "      <td>217<\/td>\n",
       "      <td>4.9M<\/td>\n",
       "      <td>10000<\/td>\n",
       "      <td>Paid<\/td>\n",
       "      <td>389.99<\/td>\n",
       "      <td>Everyone<\/td>\n",
       "      <td>Entertainment<\/td>\n",
       "      <td>2018-06-22<\/td>\n",
       "      <td>MB<\/td>\n",
       "    <\/tr>\n",
       "    <tr>\n",
       "      <th>5369<\/th>\n",
       "      <td>I am Rich<\/td>\n",
       "      <td>FINANCE<\/td>\n",
       "      <td>4.3<\/td>\n",
       "      <td>180<\/td>\n",
       "      <td>3.8M<\/td>\n",
       "      <td>5000<\/td>\n",
       "      <td>Paid<\/td>\n",
       "      <td>399.99<\/td>\n",
       "      <td>Everyone<\/td>\n",
       "      <td>Finance<\/td>\n",
       "      <td>2018-03-22<\/td>\n",
       "      <td>MB<\/td>\n",
       "    <\/tr>\n",
       "    <tr>\n",
       "      <th>5373<\/th>\n",
       "      <td>I AM RICH PRO PLUS<\/td>\n",
       "      <td>FINANCE<\/td>\n",
       "      <td>4.0<\/td>\n",
       "      <td>36<\/td>\n",
       "      <td>41M<\/td>\n",
       "      <td>1000<\/td>\n",
       "      <td>Paid<\/td>\n",
       "      <td>399.99<\/td>\n",
       "      <td>Everyone<\/td>\n",
       "      <td>Finance<\/td>\n",
       "      <td>2018-06-25<\/td>\n",
       "      <td>MB<\/td>\n",
       "    <\/tr>\n",
       "    <tr>\n",
       "      <th>9917<\/th>\n",
       "      <td>Eu Sou Rico<\/td>\n",
       "      <td>FINANCE<\/td>\n",
       "      <td>NaN<\/td>\n",
       "      <td>0<\/td>\n",
       "      <td>1.4M<\/td>\n",
       "      <td>0<\/td>\n",
       "      <td>Paid<\/td>\n",
       "      <td>394.99<\/td>\n",
       "      <td>Everyone<\/td>\n",
       "      <td>Finance<\/td>\n",
       "      <td>2018-07-11<\/td>\n",
       "      <td>MB<\/td>\n",
       "    <\/tr>\n",
       "    <tr>\n",
       "      <th>9934<\/th>\n",
       "      <td>I'm Rich\/Eu sou Rico\/أنا غني\/我很有錢<\/td>\n",
       "      <td>LIFESTYLE<\/td>\n",
       "      <td>NaN<\/td>\n",
       "      <td>0<\/td>\n",
       "      <td>40M<\/td>\n",
       "      <td>0<\/td>\n",
       "      <td>Paid<\/td>\n",
       "      <td>399.99<\/td>\n",
       "      <td>Everyone<\/td>\n",
       "      <td>Lifestyle<\/td>\n",
       "      <td>2017-12-01<\/td>\n",
       "      <td>MB<\/td>\n",
       "    <\/tr>\n",
       "  <\/tbody>\n",
       "<\/table>\n",
       "<\/div>"
      ]
     },
     "metadata":{
      
     },
     "output_type":"display_data"
    }
   ],
   "metadata":{
    "datalore":{
     "node_id":"z9zAQaY1boeX8bSEp9R2mS",
     "type":"CODE",
     "hide_input_from_viewers":false,
     "hide_output_from_viewers":false
    }
   }
  },
  {
   "cell_type":"markdown",
   "source":[
    "Seems like these apps are not useful as it all have some common keywords like I AM RICH, may be some developers had made these apps just for their joy or some other purpose. So, now it's necessory to filter out important apps like FINANCE, BUSINESS, HEALTH, SOCIAL, LIFESTYLE, TOOLS, GAMES, COMMUNICATION, and EDUCATION"
   ],
   "attachments":{
    
   },
   "metadata":{
    "datalore":{
     "node_id":"sWHKpXVVaBf3HYW5arBkji",
     "type":"MD",
     "hide_input_from_viewers":false,
     "hide_output_from_viewers":false
    }
   }
  },
  {
   "cell_type":"code",
   "source":[
    "plt.figure(figsize = [15, 10])\n",
    "sns.set_context('paper')\n",
    "\n",
    "\n",
    "imp_cats = ['FINANCE', 'BUSINESS', 'HEALTH', 'SOCIAL', 'LIFESTYLE', 'TOOLS', 'GAME', 'COMMUNICATION', 'EDUCATION']\n",
    "\n",
    "popular_apps = apps_with_price.loc[(apps_with_price.Category.isin(imp_cats))]\n",
    "\n",
    "# Let's explore these application under price $100\n",
    "popular_apps_under_100 = popular_apps.loc[(popular_apps.Price <= 100)]\n",
    "\n",
    "print(\"Average Price: ${}\".format(round(apps_with_price.Price.mean(), 2)))\n",
    "\n",
    "sns.set()\n",
    "plt.plot(popular_apps_under_100.Price, popular_apps_under_100.Category, marker='D', linestyle='none',\\\n",
    "        markersize = 8, color='goldenrod')\n",
    "plt.axvline(apps_with_price.Price.mean(), linewidth=1.5, linestyle='-')\n",
    "plt.text(16, 2, '<-- Average Price', fontsize=15, color='red')\n",
    "plt.xlabel(\"Price (in dollars)\", fontsize=14)\n",
    "plt.ylabel(\"Popular Categories\", fontsize=14)\n",
    "plt.title(\"Prices of Popular categories under $100\", fontsize=16)\n",
    "plt.show()"
   ],
   "execution_count":42,
   "outputs":[
    {
     "name":"stdout",
     "text":[
      "Average Price: $13.96\n"
     ],
     "output_type":"stream"
    },
    {
     "data":{
      "image\/png":"[encoded data removed]"
     },
     "metadata":{
      "image\/png":{
       
      }
     },
     "output_type":"display_data"
    }
   ],
   "metadata":{
    "datalore":{
     "node_id":"e0wDvytHNvnrFQHeNvViqW",
     "type":"CODE",
     "hide_input_from_viewers":false,
     "hide_output_from_viewers":false
    }
   }
  },
  {
   "cell_type":"markdown",
   "source":[
    "We can say that FINANCE, LIFESTYLE, TOOLS, GAMES, and BUSINESS applications tends to be more expensive then others as these applications have prices greater then average price. However there is only one BUSINESS application with price close to 100 dollar, Now we will find that application and explore its reviews and rating to make sure that the development of this application is purposeful"
   ],
   "attachments":{
    
   },
   "metadata":{
    "datalore":{
     "node_id":"piuxOYzvcqsrCE6uD2sPM8",
     "type":"MD",
     "hide_input_from_viewers":false,
     "hide_output_from_viewers":false
    }
   }
  },
  {
   "cell_type":"code",
   "source":[
    "business_outlier = popular_apps_under_100[popular_apps_under_100.Price >= 85]\n",
    "business_outlier"
   ],
   "execution_count":50,
   "outputs":[
    {
     "data":{
      "text\/html":[
       "<div>\n",
       "<style scoped>\n",
       "    .dataframe tbody tr th:only-of-type {\n",
       "        vertical-align: middle;\n",
       "    }\n",
       "\n",
       "    .dataframe tbody tr th {\n",
       "        vertical-align: top;\n",
       "    }\n",
       "\n",
       "    .dataframe thead th {\n",
       "        text-align: right;\n",
       "    }\n",
       "<\/style>\n",
       "<table border=\"1\" class=\"dataframe\">\n",
       "  <thead>\n",
       "    <tr style=\"text-align: right;\">\n",
       "      <th><\/th>\n",
       "      <th>App<\/th>\n",
       "      <th>Category<\/th>\n",
       "      <th>Rating<\/th>\n",
       "      <th>Reviews<\/th>\n",
       "      <th>Size<\/th>\n",
       "      <th>Installs<\/th>\n",
       "      <th>Type<\/th>\n",
       "      <th>Price<\/th>\n",
       "      <th>Content Rating<\/th>\n",
       "      <th>Genres<\/th>\n",
       "      <th>Last Updated<\/th>\n",
       "      <th>size_unit<\/th>\n",
       "    <\/tr>\n",
       "  <\/thead>\n",
       "  <tbody>\n",
       "    <tr>\n",
       "      <th>9730<\/th>\n",
       "      <td>Lean EQ<\/td>\n",
       "      <td>BUSINESS<\/td>\n",
       "      <td>NaN<\/td>\n",
       "      <td>6<\/td>\n",
       "      <td>10M<\/td>\n",
       "      <td>10<\/td>\n",
       "      <td>Paid<\/td>\n",
       "      <td>89.99<\/td>\n",
       "      <td>Everyone<\/td>\n",
       "      <td>Business<\/td>\n",
       "      <td>2017-02-14<\/td>\n",
       "      <td>MB<\/td>\n",
       "    <\/tr>\n",
       "  <\/tbody>\n",
       "<\/table>\n",
       "<\/div>"
      ]
     },
     "metadata":{
      
     },
     "output_type":"display_data"
    }
   ],
   "metadata":{
    "datalore":{
     "node_id":"i9qgSESIARpYY3iwEEKzEa",
     "type":"CODE",
     "hide_input_from_viewers":false,
     "hide_output_from_viewers":false
    }
   }
  },
  {
   "cell_type":"markdown",
   "source":[
    "This application has no rating and has only 6 reviews, its size is 10 MB and it has only 10 installs."
   ],
   "attachments":{
    
   },
   "metadata":{
    "datalore":{
     "node_id":"yyyAtjJlOQlaPay68rUlN1",
     "type":"MD",
     "hide_input_from_viewers":false,
     "hide_output_from_viewers":false
    }
   }
  },
  {
   "cell_type":"markdown",
   "source":[
    "Now we are about to end this analysis after exploring which type of applications get greater number of reviews and then we will perform sentiment analysis on reviews csv of playstore applications to find apps with positive reviews and rating"
   ],
   "attachments":{
    
   },
   "metadata":{
    "datalore":{
     "node_id":"iD9RDtrlOxDmsei4WWjOs1",
     "type":"MD",
     "hide_input_from_viewers":false,
     "hide_output_from_viewers":false
    }
   }
  },
  {
   "cell_type":"markdown",
   "source":[
    "Sentiment Anaysis Based on Reviews"
   ],
   "attachments":{
    
   },
   "metadata":{
    "datalore":{
     "node_id":"EErhwHyplwEz6rQE5nBwwT",
     "type":"MD",
     "hide_input_from_viewers":false,
     "hide_output_from_viewers":false
    }
   }
  },
  {
   "cell_type":"markdown",
   "source":[
    "We can draw conclusion from reviews of users"
   ],
   "attachments":{
    
   },
   "metadata":{
    "datalore":{
     "node_id":"sGsCcUqi0Ku7jkcEUyhd3f",
     "type":"MD",
     "hide_input_from_viewers":false,
     "hide_output_from_viewers":false
    }
   }
  },
  {
   "cell_type":"code",
   "source":[
    "reviews_df = pd.read_csv('googleplaystore_user_reviews.csv')\n",
    "reviews_df.head()"
   ],
   "execution_count":43,
   "outputs":[
    {
     "data":{
      "text\/html":[
       "<div>\n",
       "<style scoped>\n",
       "    .dataframe tbody tr th:only-of-type {\n",
       "        vertical-align: middle;\n",
       "    }\n",
       "\n",
       "    .dataframe tbody tr th {\n",
       "        vertical-align: top;\n",
       "    }\n",
       "\n",
       "    .dataframe thead th {\n",
       "        text-align: right;\n",
       "    }\n",
       "<\/style>\n",
       "<table border=\"1\" class=\"dataframe\">\n",
       "  <thead>\n",
       "    <tr style=\"text-align: right;\">\n",
       "      <th><\/th>\n",
       "      <th>App<\/th>\n",
       "      <th>Translated_Review<\/th>\n",
       "      <th>Sentiment<\/th>\n",
       "      <th>Sentiment_Polarity<\/th>\n",
       "      <th>Sentiment_Subjectivity<\/th>\n",
       "    <\/tr>\n",
       "  <\/thead>\n",
       "  <tbody>\n",
       "    <tr>\n",
       "      <th>0<\/th>\n",
       "      <td>10 Best Foods for You<\/td>\n",
       "      <td>I like eat delicious food. That's I'm cooking ...<\/td>\n",
       "      <td>Positive<\/td>\n",
       "      <td>1.00<\/td>\n",
       "      <td>0.533333<\/td>\n",
       "    <\/tr>\n",
       "    <tr>\n",
       "      <th>1<\/th>\n",
       "      <td>10 Best Foods for You<\/td>\n",
       "      <td>This help eating healthy exercise regular basis<\/td>\n",
       "      <td>Positive<\/td>\n",
       "      <td>0.25<\/td>\n",
       "      <td>0.288462<\/td>\n",
       "    <\/tr>\n",
       "    <tr>\n",
       "      <th>2<\/th>\n",
       "      <td>10 Best Foods for You<\/td>\n",
       "      <td>NaN<\/td>\n",
       "      <td>NaN<\/td>\n",
       "      <td>NaN<\/td>\n",
       "      <td>NaN<\/td>\n",
       "    <\/tr>\n",
       "    <tr>\n",
       "      <th>3<\/th>\n",
       "      <td>10 Best Foods for You<\/td>\n",
       "      <td>Works great especially going grocery store<\/td>\n",
       "      <td>Positive<\/td>\n",
       "      <td>0.40<\/td>\n",
       "      <td>0.875000<\/td>\n",
       "    <\/tr>\n",
       "    <tr>\n",
       "      <th>4<\/th>\n",
       "      <td>10 Best Foods for You<\/td>\n",
       "      <td>Best idea us<\/td>\n",
       "      <td>Positive<\/td>\n",
       "      <td>1.00<\/td>\n",
       "      <td>0.300000<\/td>\n",
       "    <\/tr>\n",
       "  <\/tbody>\n",
       "<\/table>\n",
       "<\/div>"
      ]
     },
     "metadata":{
      
     },
     "output_type":"display_data"
    }
   ],
   "metadata":{
    "datalore":{
     "node_id":"F8wKQ9D15oadJKbfqq31Jk",
     "type":"CODE",
     "hide_input_from_viewers":false,
     "hide_output_from_viewers":false
    }
   }
  },
  {
   "cell_type":"code",
   "source":[
    
   ],
   "execution_count":51,
   "outputs":[
    
   ],
   "metadata":{
    "datalore":{
     "node_id":"JJPYm7eygHIZhjKkxZkSRg",
     "type":"CODE",
     "hide_input_from_viewers":false,
     "hide_output_from_viewers":false
    }
   }
  },
  {
   "cell_type":"code",
   "source":[
    "# check for null values\n",
    "\n",
    "reviews_df.isna().sum()"
   ],
   "execution_count":49,
   "outputs":[
    {
     "data":{
      "text\/html":[
       
      ]
     },
     "metadata":{
      
     },
     "output_type":"display_data"
    }
   ],
   "metadata":{
    "datalore":{
     "node_id":"8dRDXdCk3JKa3L48P8KX6v",
     "type":"CODE",
     "hide_input_from_viewers":false,
     "hide_output_from_viewers":false
    }
   }
  },
  {
   "cell_type":"code",
   "source":[
    
   ],
   "execution_count":52,
   "outputs":[
    
   ],
   "metadata":{
    "datalore":{
     "node_id":"cxuJNjY3lMseGLftbVi8Ww",
     "type":"CODE",
     "hide_input_from_viewers":false,
     "hide_output_from_viewers":false
    }
   }
  },
  {
   "cell_type":"code",
   "source":[
    "# check duplicates\n",
    "\n",
    "reviews_df.duplicated()"
   ],
   "execution_count":45,
   "outputs":[
    {
     "data":{
      "text\/html":[
       
      ]
     },
     "metadata":{
      
     },
     "output_type":"display_data"
    }
   ],
   "metadata":{
    "datalore":{
     "node_id":"6RDSDTesr0vVcHnSg7ncPJ",
     "type":"CODE",
     "hide_input_from_viewers":false,
     "hide_output_from_viewers":false
    }
   }
  },
  {
   "cell_type":"code",
   "source":[
    "reviews_df.loc[(reviews_df.duplicated()==True)]"
   ],
   "execution_count":46,
   "outputs":[
    {
     "data":{
      "text\/html":[
       "<div>\n",
       "<style scoped>\n",
       "    .dataframe tbody tr th:only-of-type {\n",
       "        vertical-align: middle;\n",
       "    }\n",
       "\n",
       "    .dataframe tbody tr th {\n",
       "        vertical-align: top;\n",
       "    }\n",
       "\n",
       "    .dataframe thead th {\n",
       "        text-align: right;\n",
       "    }\n",
       "<\/style>\n",
       "<table border=\"1\" class=\"dataframe\">\n",
       "  <thead>\n",
       "    <tr style=\"text-align: right;\">\n",
       "      <th><\/th>\n",
       "      <th>App<\/th>\n",
       "      <th>Translated_Review<\/th>\n",
       "      <th>Sentiment<\/th>\n",
       "      <th>Sentiment_Polarity<\/th>\n",
       "      <th>Sentiment_Subjectivity<\/th>\n",
       "    <\/tr>\n",
       "  <\/thead>\n",
       "  <tbody>\n",
       "    <tr>\n",
       "      <th>7<\/th>\n",
       "      <td>10 Best Foods for You<\/td>\n",
       "      <td>NaN<\/td>\n",
       "      <td>NaN<\/td>\n",
       "      <td>NaN<\/td>\n",
       "      <td>NaN<\/td>\n",
       "    <\/tr>\n",
       "    <tr>\n",
       "      <th>15<\/th>\n",
       "      <td>10 Best Foods for You<\/td>\n",
       "      <td>NaN<\/td>\n",
       "      <td>NaN<\/td>\n",
       "      <td>NaN<\/td>\n",
       "      <td>NaN<\/td>\n",
       "    <\/tr>\n",
       "    <tr>\n",
       "      <th>78<\/th>\n",
       "      <td>10 Best Foods for You<\/td>\n",
       "      <td>Good<\/td>\n",
       "      <td>Positive<\/td>\n",
       "      <td>0.7<\/td>\n",
       "      <td>0.600000<\/td>\n",
       "    <\/tr>\n",
       "    <tr>\n",
       "      <th>79<\/th>\n",
       "      <td>10 Best Foods for You<\/td>\n",
       "      <td>Good<\/td>\n",
       "      <td>Positive<\/td>\n",
       "      <td>0.7<\/td>\n",
       "      <td>0.600000<\/td>\n",
       "    <\/tr>\n",
       "    <tr>\n",
       "      <th>100<\/th>\n",
       "      <td>10 Best Foods for You<\/td>\n",
       "      <td>I like eat delicious food. That's I'm cooking ...<\/td>\n",
       "      <td>Positive<\/td>\n",
       "      <td>1.0<\/td>\n",
       "      <td>0.533333<\/td>\n",
       "    <\/tr>\n",
       "    <tr>\n",
       "      <th>...<\/th>\n",
       "      <td>...<\/td>\n",
       "      <td>...<\/td>\n",
       "      <td>...<\/td>\n",
       "      <td>...<\/td>\n",
       "      <td>...<\/td>\n",
       "    <\/tr>\n",
       "    <tr>\n",
       "      <th>64290<\/th>\n",
       "      <td>Houzz Interior Design Ideas<\/td>\n",
       "      <td>NaN<\/td>\n",
       "      <td>NaN<\/td>\n",
       "      <td>NaN<\/td>\n",
       "      <td>NaN<\/td>\n",
       "    <\/tr>\n",
       "    <tr>\n",
       "      <th>64291<\/th>\n",
       "      <td>Houzz Interior Design Ideas<\/td>\n",
       "      <td>NaN<\/td>\n",
       "      <td>NaN<\/td>\n",
       "      <td>NaN<\/td>\n",
       "      <td>NaN<\/td>\n",
       "    <\/tr>\n",
       "    <tr>\n",
       "      <th>64292<\/th>\n",
       "      <td>Houzz Interior Design Ideas<\/td>\n",
       "      <td>NaN<\/td>\n",
       "      <td>NaN<\/td>\n",
       "      <td>NaN<\/td>\n",
       "      <td>NaN<\/td>\n",
       "    <\/tr>\n",
       "    <tr>\n",
       "      <th>64293<\/th>\n",
       "      <td>Houzz Interior Design Ideas<\/td>\n",
       "      <td>NaN<\/td>\n",
       "      <td>NaN<\/td>\n",
       "      <td>NaN<\/td>\n",
       "      <td>NaN<\/td>\n",
       "    <\/tr>\n",
       "    <tr>\n",
       "      <th>64294<\/th>\n",
       "      <td>Houzz Interior Design Ideas<\/td>\n",
       "      <td>NaN<\/td>\n",
       "      <td>NaN<\/td>\n",
       "      <td>NaN<\/td>\n",
       "      <td>NaN<\/td>\n",
       "    <\/tr>\n",
       "  <\/tbody>\n",
       "<\/table>\n",
       "<p>33616 rows × 5 columns<\/p>\n",
       "<\/div>"
      ]
     },
     "metadata":{
      
     },
     "output_type":"display_data"
    }
   ],
   "metadata":{
    "datalore":{
     "node_id":"oSZL8TqDqs2b5h5gaa1zY7",
     "type":"CODE",
     "hide_input_from_viewers":false,
     "hide_output_from_viewers":false
    }
   }
  },
  {
   "cell_type":"code",
   "source":[
    "# drop duplicates\n",
    "\n",
    "reviews_df.drop_duplicates(inplace=True)"
   ],
   "execution_count":47,
   "outputs":[
    
   ],
   "metadata":{
    "datalore":{
     "node_id":"VV53IEfBNwproGwen3iesH",
     "type":"CODE",
     "hide_input_from_viewers":false,
     "hide_output_from_viewers":false
    }
   }
  },
  {
   "cell_type":"code",
   "source":[
    "reviews_df.shape"
   ],
   "execution_count":48,
   "outputs":[
    {
     "data":{
      "text\/plain":[
       "(30679, 5)"
      ]
     },
     "metadata":{
      
     },
     "output_type":"display_data"
    }
   ],
   "metadata":{
    "datalore":{
     "node_id":"egB4KPaivFIXhBIeFPI2qo",
     "type":"CODE",
     "hide_input_from_viewers":false,
     "hide_output_from_viewers":false
    }
   }
  },
  {
   "cell_type":"markdown",
   "source":[
    "Merge previous application dataframe with this review dataframe to explore reviews of free, paid, and popular category of apps"
   ],
   "attachments":{
    
   },
   "metadata":{
    "datalore":{
     "node_id":"hCoHxPMyEUEkkFaMdO5WRh",
     "type":"MD",
     "hide_input_from_viewers":false,
     "hide_output_from_viewers":false
    }
   }
  },
  {
   "cell_type":"code",
   "source":[
    "app_df = reviews_df.merge(apps2, on=['App'], suffixes=('_rev', '_org'))\n",
    "app_df.head()"
   ],
   "execution_count":52,
   "outputs":[
    {
     "data":{
      "text\/html":[
       "<div>\n",
       "<style scoped>\n",
       "    .dataframe tbody tr th:only-of-type {\n",
       "        vertical-align: middle;\n",
       "    }\n",
       "\n",
       "    .dataframe tbody tr th {\n",
       "        vertical-align: top;\n",
       "    }\n",
       "\n",
       "    .dataframe thead th {\n",
       "        text-align: right;\n",
       "    }\n",
       "<\/style>\n",
       "<table border=\"1\" class=\"dataframe\">\n",
       "  <thead>\n",
       "    <tr style=\"text-align: right;\">\n",
       "      <th><\/th>\n",
       "      <th>App<\/th>\n",
       "      <th>Translated_Review<\/th>\n",
       "      <th>Sentiment<\/th>\n",
       "      <th>Sentiment_Polarity<\/th>\n",
       "      <th>Sentiment_Subjectivity<\/th>\n",
       "      <th>Category<\/th>\n",
       "      <th>Rating<\/th>\n",
       "      <th>Reviews<\/th>\n",
       "      <th>Size<\/th>\n",
       "      <th>Installs<\/th>\n",
       "      <th>Type<\/th>\n",
       "      <th>Price<\/th>\n",
       "      <th>Content Rating<\/th>\n",
       "      <th>Genres<\/th>\n",
       "      <th>Last Updated<\/th>\n",
       "      <th>size_unit<\/th>\n",
       "    <\/tr>\n",
       "  <\/thead>\n",
       "  <tbody>\n",
       "    <tr>\n",
       "      <th>0<\/th>\n",
       "      <td>10 Best Foods for You<\/td>\n",
       "      <td>I like eat delicious food. That's I'm cooking ...<\/td>\n",
       "      <td>Positive<\/td>\n",
       "      <td>1.00<\/td>\n",
       "      <td>0.533333<\/td>\n",
       "      <td>HEALTH_AND_FITNESS<\/td>\n",
       "      <td>4.0<\/td>\n",
       "      <td>2490<\/td>\n",
       "      <td>3.8M<\/td>\n",
       "      <td>500000<\/td>\n",
       "      <td>Free<\/td>\n",
       "      <td>0.0<\/td>\n",
       "      <td>10+<\/td>\n",
       "      <td>Health &amp; Fitness<\/td>\n",
       "      <td>2017-02-17<\/td>\n",
       "      <td>MB<\/td>\n",
       "    <\/tr>\n",
       "    <tr>\n",
       "      <th>1<\/th>\n",
       "      <td>10 Best Foods for You<\/td>\n",
       "      <td>This help eating healthy exercise regular basis<\/td>\n",
       "      <td>Positive<\/td>\n",
       "      <td>0.25<\/td>\n",
       "      <td>0.288462<\/td>\n",
       "      <td>HEALTH_AND_FITNESS<\/td>\n",
       "      <td>4.0<\/td>\n",
       "      <td>2490<\/td>\n",
       "      <td>3.8M<\/td>\n",
       "      <td>500000<\/td>\n",
       "      <td>Free<\/td>\n",
       "      <td>0.0<\/td>\n",
       "      <td>10+<\/td>\n",
       "      <td>Health &amp; Fitness<\/td>\n",
       "      <td>2017-02-17<\/td>\n",
       "      <td>MB<\/td>\n",
       "    <\/tr>\n",
       "    <tr>\n",
       "      <th>2<\/th>\n",
       "      <td>10 Best Foods for You<\/td>\n",
       "      <td>NaN<\/td>\n",
       "      <td>NaN<\/td>\n",
       "      <td>NaN<\/td>\n",
       "      <td>NaN<\/td>\n",
       "      <td>HEALTH_AND_FITNESS<\/td>\n",
       "      <td>4.0<\/td>\n",
       "      <td>2490<\/td>\n",
       "      <td>3.8M<\/td>\n",
       "      <td>500000<\/td>\n",
       "      <td>Free<\/td>\n",
       "      <td>0.0<\/td>\n",
       "      <td>10+<\/td>\n",
       "      <td>Health &amp; Fitness<\/td>\n",
       "      <td>2017-02-17<\/td>\n",
       "      <td>MB<\/td>\n",
       "    <\/tr>\n",
       "    <tr>\n",
       "      <th>3<\/th>\n",
       "      <td>10 Best Foods for You<\/td>\n",
       "      <td>Works great especially going grocery store<\/td>\n",
       "      <td>Positive<\/td>\n",
       "      <td>0.40<\/td>\n",
       "      <td>0.875000<\/td>\n",
       "      <td>HEALTH_AND_FITNESS<\/td>\n",
       "      <td>4.0<\/td>\n",
       "      <td>2490<\/td>\n",
       "      <td>3.8M<\/td>\n",
       "      <td>500000<\/td>\n",
       "      <td>Free<\/td>\n",
       "      <td>0.0<\/td>\n",
       "      <td>10+<\/td>\n",
       "      <td>Health &amp; Fitness<\/td>\n",
       "      <td>2017-02-17<\/td>\n",
       "      <td>MB<\/td>\n",
       "    <\/tr>\n",
       "    <tr>\n",
       "      <th>4<\/th>\n",
       "      <td>10 Best Foods for You<\/td>\n",
       "      <td>Best idea us<\/td>\n",
       "      <td>Positive<\/td>\n",
       "      <td>1.00<\/td>\n",
       "      <td>0.300000<\/td>\n",
       "      <td>HEALTH_AND_FITNESS<\/td>\n",
       "      <td>4.0<\/td>\n",
       "      <td>2490<\/td>\n",
       "      <td>3.8M<\/td>\n",
       "      <td>500000<\/td>\n",
       "      <td>Free<\/td>\n",
       "      <td>0.0<\/td>\n",
       "      <td>10+<\/td>\n",
       "      <td>Health &amp; Fitness<\/td>\n",
       "      <td>2017-02-17<\/td>\n",
       "      <td>MB<\/td>\n",
       "    <\/tr>\n",
       "  <\/tbody>\n",
       "<\/table>\n",
       "<\/div>"
      ]
     },
     "metadata":{
      
     },
     "output_type":"display_data"
    }
   ],
   "metadata":{
    "datalore":{
     "node_id":"MSRfJ4B3gr1oioTsUvXy6L",
     "type":"CODE",
     "hide_input_from_viewers":false,
     "hide_output_from_viewers":false
    }
   }
  },
  {
   "cell_type":"code",
   "source":[
    "app_df.shape"
   ],
   "execution_count":53,
   "outputs":[
    {
     "data":{
      "text\/plain":[
       "(41661, 16)"
      ]
     },
     "metadata":{
      
     },
     "output_type":"display_data"
    }
   ],
   "metadata":{
    "datalore":{
     "node_id":"cEIn1oCCQx4OOPMPVKQ1li",
     "type":"CODE",
     "hide_input_from_viewers":false,
     "hide_output_from_viewers":false
    }
   }
  },
  {
   "cell_type":"code",
   "source":[
    "# group applications based on their category and then sentiment to find out the proportion of \n",
    "# positive, negative, and neutral reviews of popular categories\n",
    "\n",
    "category_sent = app_df.groupby('Category', group_keys=False)['Sentiment'].value_counts(normalize=True).rename('proportion').reset_index()\n",
    "category_sent"
   ],
   "execution_count":56,
   "outputs":[
    {
     "data":{
      "text\/html":[
       "<div>\n",
       "<style scoped>\n",
       "    .dataframe tbody tr th:only-of-type {\n",
       "        vertical-align: middle;\n",
       "    }\n",
       "\n",
       "    .dataframe tbody tr th {\n",
       "        vertical-align: top;\n",
       "    }\n",
       "\n",
       "    .dataframe thead th {\n",
       "        text-align: right;\n",
       "    }\n",
       "<\/style>\n",
       "<table border=\"1\" class=\"dataframe\">\n",
       "  <thead>\n",
       "    <tr style=\"text-align: right;\">\n",
       "      <th><\/th>\n",
       "      <th>Category<\/th>\n",
       "      <th>Sentiment<\/th>\n",
       "      <th>proportion<\/th>\n",
       "    <\/tr>\n",
       "  <\/thead>\n",
       "  <tbody>\n",
       "    <tr>\n",
       "      <th>0<\/th>\n",
       "      <td>ART_AND_DESIGN<\/td>\n",
       "      <td>Positive<\/td>\n",
       "      <td>0.677966<\/td>\n",
       "    <\/tr>\n",
       "    <tr>\n",
       "      <th>1<\/th>\n",
       "      <td>ART_AND_DESIGN<\/td>\n",
       "      <td>Neutral<\/td>\n",
       "      <td>0.169492<\/td>\n",
       "    <\/tr>\n",
       "    <tr>\n",
       "      <th>2<\/th>\n",
       "      <td>ART_AND_DESIGN<\/td>\n",
       "      <td>Negative<\/td>\n",
       "      <td>0.152542<\/td>\n",
       "    <\/tr>\n",
       "    <tr>\n",
       "      <th>3<\/th>\n",
       "      <td>AUTO_AND_VEHICLES<\/td>\n",
       "      <td>Positive<\/td>\n",
       "      <td>0.812721<\/td>\n",
       "    <\/tr>\n",
       "    <tr>\n",
       "      <th>4<\/th>\n",
       "      <td>AUTO_AND_VEHICLES<\/td>\n",
       "      <td>Neutral<\/td>\n",
       "      <td>0.127208<\/td>\n",
       "    <\/tr>\n",
       "    <tr>\n",
       "      <th>...<\/th>\n",
       "      <td>...<\/td>\n",
       "      <td>...<\/td>\n",
       "      <td>...<\/td>\n",
       "    <\/tr>\n",
       "    <tr>\n",
       "      <th>94<\/th>\n",
       "      <td>VIDEO_PLAYERS<\/td>\n",
       "      <td>Negative<\/td>\n",
       "      <td>0.254601<\/td>\n",
       "    <\/tr>\n",
       "    <tr>\n",
       "      <th>95<\/th>\n",
       "      <td>VIDEO_PLAYERS<\/td>\n",
       "      <td>Neutral<\/td>\n",
       "      <td>0.177914<\/td>\n",
       "    <\/tr>\n",
       "    <tr>\n",
       "      <th>96<\/th>\n",
       "      <td>WEATHER<\/td>\n",
       "      <td>Positive<\/td>\n",
       "      <td>0.699115<\/td>\n",
       "    <\/tr>\n",
       "    <tr>\n",
       "      <th>97<\/th>\n",
       "      <td>WEATHER<\/td>\n",
       "      <td>Neutral<\/td>\n",
       "      <td>0.154867<\/td>\n",
       "    <\/tr>\n",
       "    <tr>\n",
       "      <th>98<\/th>\n",
       "      <td>WEATHER<\/td>\n",
       "      <td>Negative<\/td>\n",
       "      <td>0.146018<\/td>\n",
       "    <\/tr>\n",
       "  <\/tbody>\n",
       "<\/table>\n",
       "<p>99 rows × 3 columns<\/p>\n",
       "<\/div>"
      ]
     },
     "metadata":{
      
     },
     "output_type":"display_data"
    }
   ],
   "metadata":{
    "datalore":{
     "node_id":"QUZP6vsffCxYtpMamdBit2",
     "type":"CODE",
     "hide_input_from_viewers":false,
     "hide_output_from_viewers":false
    }
   }
  },
  {
   "cell_type":"code",
   "source":[
    "# from all above categories pick out records with popular categories only\n",
    "\n",
    "sent_of_pop_cat = category_sent[category_sent.Category.isin(imp_cats)]\n",
    "sent_of_pop_cat"
   ],
   "execution_count":57,
   "outputs":[
    {
     "data":{
      "text\/html":[
       "<div>\n",
       "<style scoped>\n",
       "    .dataframe tbody tr th:only-of-type {\n",
       "        vertical-align: middle;\n",
       "    }\n",
       "\n",
       "    .dataframe tbody tr th {\n",
       "        vertical-align: top;\n",
       "    }\n",
       "\n",
       "    .dataframe thead th {\n",
       "        text-align: right;\n",
       "    }\n",
       "<\/style>\n",
       "<table border=\"1\" class=\"dataframe\">\n",
       "  <thead>\n",
       "    <tr style=\"text-align: right;\">\n",
       "      <th><\/th>\n",
       "      <th>Category<\/th>\n",
       "      <th>Sentiment<\/th>\n",
       "      <th>proportion<\/th>\n",
       "    <\/tr>\n",
       "  <\/thead>\n",
       "  <tbody>\n",
       "    <tr>\n",
       "      <th>12<\/th>\n",
       "      <td>BUSINESS<\/td>\n",
       "      <td>Positive<\/td>\n",
       "      <td>0.570361<\/td>\n",
       "    <\/tr>\n",
       "    <tr>\n",
       "      <th>13<\/th>\n",
       "      <td>BUSINESS<\/td>\n",
       "      <td>Neutral<\/td>\n",
       "      <td>0.250311<\/td>\n",
       "    <\/tr>\n",
       "    <tr>\n",
       "      <th>14<\/th>\n",
       "      <td>BUSINESS<\/td>\n",
       "      <td>Negative<\/td>\n",
       "      <td>0.179328<\/td>\n",
       "    <\/tr>\n",
       "    <tr>\n",
       "      <th>18<\/th>\n",
       "      <td>COMMUNICATION<\/td>\n",
       "      <td>Positive<\/td>\n",
       "      <td>0.638975<\/td>\n",
       "    <\/tr>\n",
       "    <tr>\n",
       "      <th>19<\/th>\n",
       "      <td>COMMUNICATION<\/td>\n",
       "      <td>Negative<\/td>\n",
       "      <td>0.197205<\/td>\n",
       "    <\/tr>\n",
       "    <tr>\n",
       "      <th>20<\/th>\n",
       "      <td>COMMUNICATION<\/td>\n",
       "      <td>Neutral<\/td>\n",
       "      <td>0.163820<\/td>\n",
       "    <\/tr>\n",
       "    <tr>\n",
       "      <th>24<\/th>\n",
       "      <td>EDUCATION<\/td>\n",
       "      <td>Positive<\/td>\n",
       "      <td>0.759837<\/td>\n",
       "    <\/tr>\n",
       "    <tr>\n",
       "      <th>25<\/th>\n",
       "      <td>EDUCATION<\/td>\n",
       "      <td>Neutral<\/td>\n",
       "      <td>0.122117<\/td>\n",
       "    <\/tr>\n",
       "    <tr>\n",
       "      <th>26<\/th>\n",
       "      <td>EDUCATION<\/td>\n",
       "      <td>Negative<\/td>\n",
       "      <td>0.118046<\/td>\n",
       "    <\/tr>\n",
       "    <tr>\n",
       "      <th>36<\/th>\n",
       "      <td>FINANCE<\/td>\n",
       "      <td>Positive<\/td>\n",
       "      <td>0.640101<\/td>\n",
       "    <\/tr>\n",
       "    <tr>\n",
       "      <th>37<\/th>\n",
       "      <td>FINANCE<\/td>\n",
       "      <td>Negative<\/td>\n",
       "      <td>0.221379<\/td>\n",
       "    <\/tr>\n",
       "    <tr>\n",
       "      <th>38<\/th>\n",
       "      <td>FINANCE<\/td>\n",
       "      <td>Neutral<\/td>\n",
       "      <td>0.138520<\/td>\n",
       "    <\/tr>\n",
       "    <tr>\n",
       "      <th>42<\/th>\n",
       "      <td>GAME<\/td>\n",
       "      <td>Positive<\/td>\n",
       "      <td>0.580437<\/td>\n",
       "    <\/tr>\n",
       "    <tr>\n",
       "      <th>43<\/th>\n",
       "      <td>GAME<\/td>\n",
       "      <td>Negative<\/td>\n",
       "      <td>0.375013<\/td>\n",
       "    <\/tr>\n",
       "    <tr>\n",
       "      <th>44<\/th>\n",
       "      <td>GAME<\/td>\n",
       "      <td>Neutral<\/td>\n",
       "      <td>0.044550<\/td>\n",
       "    <\/tr>\n",
       "    <tr>\n",
       "      <th>54<\/th>\n",
       "      <td>LIFESTYLE<\/td>\n",
       "      <td>Positive<\/td>\n",
       "      <td>0.642933<\/td>\n",
       "    <\/tr>\n",
       "    <tr>\n",
       "      <th>55<\/th>\n",
       "      <td>LIFESTYLE<\/td>\n",
       "      <td>Neutral<\/td>\n",
       "      <td>0.181722<\/td>\n",
       "    <\/tr>\n",
       "    <tr>\n",
       "      <th>56<\/th>\n",
       "      <td>LIFESTYLE<\/td>\n",
       "      <td>Negative<\/td>\n",
       "      <td>0.175345<\/td>\n",
       "    <\/tr>\n",
       "    <tr>\n",
       "      <th>81<\/th>\n",
       "      <td>SOCIAL<\/td>\n",
       "      <td>Positive<\/td>\n",
       "      <td>0.530256<\/td>\n",
       "    <\/tr>\n",
       "    <tr>\n",
       "      <th>82<\/th>\n",
       "      <td>SOCIAL<\/td>\n",
       "      <td>Negative<\/td>\n",
       "      <td>0.315897<\/td>\n",
       "    <\/tr>\n",
       "    <tr>\n",
       "      <th>83<\/th>\n",
       "      <td>SOCIAL<\/td>\n",
       "      <td>Neutral<\/td>\n",
       "      <td>0.153846<\/td>\n",
       "    <\/tr>\n",
       "    <tr>\n",
       "      <th>87<\/th>\n",
       "      <td>TOOLS<\/td>\n",
       "      <td>Positive<\/td>\n",
       "      <td>0.609507<\/td>\n",
       "    <\/tr>\n",
       "    <tr>\n",
       "      <th>88<\/th>\n",
       "      <td>TOOLS<\/td>\n",
       "      <td>Neutral<\/td>\n",
       "      <td>0.212395<\/td>\n",
       "    <\/tr>\n",
       "    <tr>\n",
       "      <th>89<\/th>\n",
       "      <td>TOOLS<\/td>\n",
       "      <td>Negative<\/td>\n",
       "      <td>0.178099<\/td>\n",
       "    <\/tr>\n",
       "  <\/tbody>\n",
       "<\/table>\n",
       "<\/div>"
      ]
     },
     "metadata":{
      
     },
     "output_type":"display_data"
    }
   ],
   "metadata":{
    "datalore":{
     "node_id":"mB9WgC8xNPd334xLew7MU8",
     "type":"CODE",
     "hide_input_from_viewers":false,
     "hide_output_from_viewers":false
    }
   }
  },
  {
   "cell_type":"markdown",
   "source":[
    "Using PLOTLY to plot proportion of sentiment of each category"
   ],
   "attachments":{
    
   },
   "metadata":{
    "datalore":{
     "node_id":"vR25AF0qnavmBgPF8Rzq7z",
     "type":"MD",
     "hide_input_from_viewers":false,
     "hide_output_from_viewers":false
    }
   }
  },
  {
   "cell_type":"code",
   "source":[
    "fig = px.bar(sent_of_pop_cat, x=\"proportion\", y=\"Category\", color=\"Sentiment\", barmode=\"group\",\n",
    "             color_discrete_sequence=px.colors.qualitative.Safe, hover_name=\"Sentiment\",\n",
    "             category_orders={ \"Sentiment\": [\"Positive\", \"Negative\", \"Neutral\"]})\n",
    "\n",
    "fig.update_layout(barmode='stack', title=\"Sentiment Proportion Along Category\")\n",
    "fig.update_xaxes(showgrid=True, ticks=\"outside\", tickson=\"boundaries\")\n",
    "\n",
    "fig.show()"
   ],
   "execution_count":58,
   "outputs":[
    {
     "data":{
      "application\/vnd.plotly.v1+json":{
       "data":[
        {
         "alignmentgroup":"True",
         "hovertemplate":"<b>%{hovertext}<\/b><br><br>Sentiment=Positive<br>proportion=%{x}<br>Category=%{y}<extra><\/extra>",
         "hovertext":[
          "Positive",
          "Positive",
          "Positive",
          "Positive",
          "Positive",
          "Positive",
          "Positive",
          "Positive"
         ],
         "legendgroup":"Positive",
         "marker":{
          "color":"rgb(136, 204, 238)",
          "pattern":{
           "shape":""
          }
         },
         "name":"Positive",
         "offsetgroup":"Positive",
         "orientation":"h",
         "showlegend":true,
         "textposition":"auto",
         "x":[
          0.5703611457036114,
          0.6389751552795031,
          0.7598371777476255,
          0.640101201771031,
          0.5804368879802001,
          0.6429330499468651,
          0.5302564102564102,
          0.6095066185318893
         ],
         "xaxis":"x",
         "y":[
          "BUSINESS",
          "COMMUNICATION",
          "EDUCATION",
          "FINANCE",
          "GAME",
          "LIFESTYLE",
          "SOCIAL",
          "TOOLS"
         ],
         "yaxis":"y",
         "type":"bar"
        },
        {
         "alignmentgroup":"True",
         "hovertemplate":"<b>%{hovertext}<\/b><br><br>Sentiment=Negative<br>proportion=%{x}<br>Category=%{y}<extra><\/extra>",
         "hovertext":[
          "Negative",
          "Negative",
          "Negative",
          "Negative",
          "Negative",
          "Negative",
          "Negative",
          "Negative"
         ],
         "legendgroup":"Negative",
         "marker":{
          "color":"rgb(204, 102, 119)",
          "pattern":{
           "shape":""
          }
         },
         "name":"Negative",
         "offsetgroup":"Negative",
         "orientation":"h",
         "showlegend":true,
         "textposition":"auto",
         "x":[
          0.1793275217932752,
          0.1972049689440994,
          0.11804613297150611,
          0.22137887413029728,
          0.3750134509846121,
          0.17534537725823593,
          0.3158974358974359,
          0.17809867629362214
         ],
         "xaxis":"x",
         "y":[
          "BUSINESS",
          "COMMUNICATION",
          "EDUCATION",
          "FINANCE",
          "GAME",
          "LIFESTYLE",
          "SOCIAL",
          "TOOLS"
         ],
         "yaxis":"y",
         "type":"bar"
        },
        {
         "alignmentgroup":"True",
         "hovertemplate":"<b>%{hovertext}<\/b><br><br>Sentiment=Neutral<br>proportion=%{x}<br>Category=%{y}<extra><\/extra>",
         "hovertext":[
          "Neutral",
          "Neutral",
          "Neutral",
          "Neutral",
          "Neutral",
          "Neutral",
          "Neutral",
          "Neutral"
         ],
         "legendgroup":"Neutral",
         "marker":{
          "color":"rgb(221, 204, 119)",
          "pattern":{
           "shape":""
          }
         },
         "name":"Neutral",
         "offsetgroup":"Neutral",
         "orientation":"h",
         "showlegend":true,
         "textposition":"auto",
         "x":[
          0.2503113325031133,
          0.1638198757763975,
          0.12211668928086838,
          0.13851992409867173,
          0.044549661035187774,
          0.18172157279489903,
          0.15384615384615385,
          0.21239470517448858
         ],
         "xaxis":"x",
         "y":[
          "BUSINESS",
          "COMMUNICATION",
          "EDUCATION",
          "FINANCE",
          "GAME",
          "LIFESTYLE",
          "SOCIAL",
          "TOOLS"
         ],
         "yaxis":"y",
         "type":"bar"
        }
       ],
       "layout":{
        "template":{
         "data":{
          "bar":[
           {
            "error_x":{
             "color":"#2a3f5f"
            },
            "error_y":{
             "color":"#2a3f5f"
            },
            "marker":{
             "line":{
              "color":"#E5ECF6",
              "width":0.5
             },
             "pattern":{
              "fillmode":"overlay",
              "size":10,
              "solidity":0.2
             }
            },
            "type":"bar"
           }
          ],
          "barpolar":[
           {
            "marker":{
             "line":{
              "color":"#E5ECF6",
              "width":0.5
             },
             "pattern":{
              "fillmode":"overlay",
              "size":10,
              "solidity":0.2
             }
            },
            "type":"barpolar"
           }
          ],
          "carpet":[
           {
            "aaxis":{
             "endlinecolor":"#2a3f5f",
             "gridcolor":"white",
             "linecolor":"white",
             "minorgridcolor":"white",
             "startlinecolor":"#2a3f5f"
            },
            "baxis":{
             "endlinecolor":"#2a3f5f",
             "gridcolor":"white",
             "linecolor":"white",
             "minorgridcolor":"white",
             "startlinecolor":"#2a3f5f"
            },
            "type":"carpet"
           }
          ],
          "choropleth":[
           {
            "colorbar":{
             "outlinewidth":0,
             "ticks":""
            },
            "type":"choropleth"
           }
          ],
          "contour":[
           {
            "colorbar":{
             "outlinewidth":0,
             "ticks":""
            },
            "colorscale":[
             [
              0,
              "#0d0887"
             ],
             [
              0.1111111111111111,
              "#46039f"
             ],
             [
              0.2222222222222222,
              "#7201a8"
             ],
             [
              0.3333333333333333,
              "#9c179e"
             ],
             [
              0.4444444444444444,
              "#bd3786"
             ],
             [
              0.5555555555555556,
              "#d8576b"
             ],
             [
              0.6666666666666666,
              "#ed7953"
             ],
             [
              0.7777777777777778,
              "#fb9f3a"
             ],
             [
              0.8888888888888888,
              "#fdca26"
             ],
             [
              1,
              "#f0f921"
             ]
            ],
            "type":"contour"
           }
          ],
          "contourcarpet":[
           {
            "colorbar":{
             "outlinewidth":0,
             "ticks":""
            },
            "type":"contourcarpet"
           }
          ],
          "heatmap":[
           {
            "colorbar":{
             "outlinewidth":0,
             "ticks":""
            },
            "colorscale":[
             [
              0,
              "#0d0887"
             ],
             [
              0.1111111111111111,
              "#46039f"
             ],
             [
              0.2222222222222222,
              "#7201a8"
             ],
             [
              0.3333333333333333,
              "#9c179e"
             ],
             [
              0.4444444444444444,
              "#bd3786"
             ],
             [
              0.5555555555555556,
              "#d8576b"
             ],
             [
              0.6666666666666666,
              "#ed7953"
             ],
             [
              0.7777777777777778,
              "#fb9f3a"
             ],
             [
              0.8888888888888888,
              "#fdca26"
             ],
             [
              1,
              "#f0f921"
             ]
            ],
            "type":"heatmap"
           }
          ],
          "heatmapgl":[
           {
            "colorbar":{
             "outlinewidth":0,
             "ticks":""
            },
            "colorscale":[
             [
              0,
              "#0d0887"
             ],
             [
              0.1111111111111111,
              "#46039f"
             ],
             [
              0.2222222222222222,
              "#7201a8"
             ],
             [
              0.3333333333333333,
              "#9c179e"
             ],
             [
              0.4444444444444444,
              "#bd3786"
             ],
             [
              0.5555555555555556,
              "#d8576b"
             ],
             [
              0.6666666666666666,
              "#ed7953"
             ],
             [
              0.7777777777777778,
              "#fb9f3a"
             ],
             [
              0.8888888888888888,
              "#fdca26"
             ],
             [
              1,
              "#f0f921"
             ]
            ],
            "type":"heatmapgl"
           }
          ],
          "histogram":[
           {
            "marker":{
             "pattern":{
              "fillmode":"overlay",
              "size":10,
              "solidity":0.2
             }
            },
            "type":"histogram"
           }
          ],
          "histogram2d":[
           {
            "colorbar":{
             "outlinewidth":0,
             "ticks":""
            },
            "colorscale":[
             [
              0,
              "#0d0887"
             ],
             [
              0.1111111111111111,
              "#46039f"
             ],
             [
              0.2222222222222222,
              "#7201a8"
             ],
             [
              0.3333333333333333,
              "#9c179e"
             ],
             [
              0.4444444444444444,
              "#bd3786"
             ],
             [
              0.5555555555555556,
              "#d8576b"
             ],
             [
              0.6666666666666666,
              "#ed7953"
             ],
             [
              0.7777777777777778,
              "#fb9f3a"
             ],
             [
              0.8888888888888888,
              "#fdca26"
             ],
             [
              1,
              "#f0f921"
             ]
            ],
            "type":"histogram2d"
           }
          ],
          "histogram2dcontour":[
           {
            "colorbar":{
             "outlinewidth":0,
             "ticks":""
            },
            "colorscale":[
             [
              0,
              "#0d0887"
             ],
             [
              0.1111111111111111,
              "#46039f"
             ],
             [
              0.2222222222222222,
              "#7201a8"
             ],
             [
              0.3333333333333333,
              "#9c179e"
             ],
             [
              0.4444444444444444,
              "#bd3786"
             ],
             [
              0.5555555555555556,
              "#d8576b"
             ],
             [
              0.6666666666666666,
              "#ed7953"
             ],
             [
              0.7777777777777778,
              "#fb9f3a"
             ],
             [
              0.8888888888888888,
              "#fdca26"
             ],
             [
              1,
              "#f0f921"
             ]
            ],
            "type":"histogram2dcontour"
           }
          ],
          "mesh3d":[
           {
            "colorbar":{
             "outlinewidth":0,
             "ticks":""
            },
            "type":"mesh3d"
           }
          ],
          "parcoords":[
           {
            "line":{
             "colorbar":{
              "outlinewidth":0,
              "ticks":""
             }
            },
            "type":"parcoords"
           }
          ],
          "pie":[
           {
            "automargin":true,
            "type":"pie"
           }
          ],
          "scatter":[
           {
            "marker":{
             "colorbar":{
              "outlinewidth":0,
              "ticks":""
             }
            },
            "type":"scatter"
           }
          ],
          "scatter3d":[
           {
            "line":{
             "colorbar":{
              "outlinewidth":0,
              "ticks":""
             }
            },
            "marker":{
             "colorbar":{
              "outlinewidth":0,
              "ticks":""
             }
            },
            "type":"scatter3d"
           }
          ],
          "scattercarpet":[
           {
            "marker":{
             "colorbar":{
              "outlinewidth":0,
              "ticks":""
             }
            },
            "type":"scattercarpet"
           }
          ],
          "scattergeo":[
           {
            "marker":{
             "colorbar":{
              "outlinewidth":0,
              "ticks":""
             }
            },
            "type":"scattergeo"
           }
          ],
          "scattergl":[
           {
            "marker":{
             "colorbar":{
              "outlinewidth":0,
              "ticks":""
             }
            },
            "type":"scattergl"
           }
          ],
          "scattermapbox":[
           {
            "marker":{
             "colorbar":{
              "outlinewidth":0,
              "ticks":""
             }
            },
            "type":"scattermapbox"
           }
          ],
          "scatterpolar":[
           {
            "marker":{
             "colorbar":{
              "outlinewidth":0,
              "ticks":""
             }
            },
            "type":"scatterpolar"
           }
          ],
          "scatterpolargl":[
           {
            "marker":{
             "colorbar":{
              "outlinewidth":0,
              "ticks":""
             }
            },
            "type":"scatterpolargl"
           }
          ],
          "scatterternary":[
           {
            "marker":{
             "colorbar":{
              "outlinewidth":0,
              "ticks":""
             }
            },
            "type":"scatterternary"
           }
          ],
          "surface":[
           {
            "colorbar":{
             "outlinewidth":0,
             "ticks":""
            },
            "colorscale":[
             [
              0,
              "#0d0887"
             ],
             [
              0.1111111111111111,
              "#46039f"
             ],
             [
              0.2222222222222222,
              "#7201a8"
             ],
             [
              0.3333333333333333,
              "#9c179e"
             ],
             [
              0.4444444444444444,
              "#bd3786"
             ],
             [
              0.5555555555555556,
              "#d8576b"
             ],
             [
              0.6666666666666666,
              "#ed7953"
             ],
             [
              0.7777777777777778,
              "#fb9f3a"
             ],
             [
              0.8888888888888888,
              "#fdca26"
             ],
             [
              1,
              "#f0f921"
             ]
            ],
            "type":"surface"
           }
          ],
          "table":[
           {
            "cells":{
             "fill":{
              "color":"#EBF0F8"
             },
             "line":{
              "color":"white"
             }
            },
            "header":{
             "fill":{
              "color":"#C8D4E3"
             },
             "line":{
              "color":"white"
             }
            },
            "type":"table"
           }
          ]
         },
         "layout":{
          "annotationdefaults":{
           "arrowcolor":"#2a3f5f",
           "arrowhead":0,
           "arrowwidth":1
          },
          "autotypenumbers":"strict",
          "coloraxis":{
           "colorbar":{
            "outlinewidth":0,
            "ticks":""
           }
          },
          "colorscale":{
           "diverging":[
            [
             0,
             "#8e0152"
            ],
            [
             0.1,
             "#c51b7d"
            ],
            [
             0.2,
             "#de77ae"
            ],
            [
             0.3,
             "#f1b6da"
            ],
            [
             0.4,
             "#fde0ef"
            ],
            [
             0.5,
             "#f7f7f7"
            ],
            [
             0.6,
             "#e6f5d0"
            ],
            [
             0.7,
             "#b8e186"
            ],
            [
             0.8,
             "#7fbc41"
            ],
            [
             0.9,
             "#4d9221"
            ],
            [
             1,
             "#276419"
            ]
           ],
           "sequential":[
            [
             0,
             "#0d0887"
            ],
            [
             0.1111111111111111,
             "#46039f"
            ],
            [
             0.2222222222222222,
             "#7201a8"
            ],
            [
             0.3333333333333333,
             "#9c179e"
            ],
            [
             0.4444444444444444,
             "#bd3786"
            ],
            [
             0.5555555555555556,
             "#d8576b"
            ],
            [
             0.6666666666666666,
             "#ed7953"
            ],
            [
             0.7777777777777778,
             "#fb9f3a"
            ],
            [
             0.8888888888888888,
             "#fdca26"
            ],
            [
             1,
             "#f0f921"
            ]
           ],
           "sequentialminus":[
            [
             0,
             "#0d0887"
            ],
            [
             0.1111111111111111,
             "#46039f"
            ],
            [
             0.2222222222222222,
             "#7201a8"
            ],
            [
             0.3333333333333333,
             "#9c179e"
            ],
            [
             0.4444444444444444,
             "#bd3786"
            ],
            [
             0.5555555555555556,
             "#d8576b"
            ],
            [
             0.6666666666666666,
             "#ed7953"
            ],
            [
             0.7777777777777778,
             "#fb9f3a"
            ],
            [
             0.8888888888888888,
             "#fdca26"
            ],
            [
             1,
             "#f0f921"
            ]
           ]
          },
          "colorway":[
           "#636efa",
           "#EF553B",
           "#00cc96",
           "#ab63fa",
           "#FFA15A",
           "#19d3f3",
           "#FF6692",
           "#B6E880",
           "#FF97FF",
           "#FECB52"
          ],
          "font":{
           "color":"#2a3f5f"
          },
          "geo":{
           "bgcolor":"white",
           "lakecolor":"white",
           "landcolor":"#E5ECF6",
           "showlakes":true,
           "showland":true,
           "subunitcolor":"white"
          },
          "hoverlabel":{
           "align":"left"
          },
          "hovermode":"closest",
          "mapbox":{
           "style":"light"
          },
          "paper_bgcolor":"white",
          "plot_bgcolor":"#E5ECF6",
          "polar":{
           "angularaxis":{
            "gridcolor":"white",
            "linecolor":"white",
            "ticks":""
           },
           "bgcolor":"#E5ECF6",
           "radialaxis":{
            "gridcolor":"white",
            "linecolor":"white",
            "ticks":""
           }
          },
          "scene":{
           "xaxis":{
            "backgroundcolor":"#E5ECF6",
            "gridcolor":"white",
            "gridwidth":2,
            "linecolor":"white",
            "showbackground":true,
            "ticks":"",
            "zerolinecolor":"white"
           },
           "yaxis":{
            "backgroundcolor":"#E5ECF6",
            "gridcolor":"white",
            "gridwidth":2,
            "linecolor":"white",
            "showbackground":true,
            "ticks":"",
            "zerolinecolor":"white"
           },
           "zaxis":{
            "backgroundcolor":"#E5ECF6",
            "gridcolor":"white",
            "gridwidth":2,
            "linecolor":"white",
            "showbackground":true,
            "ticks":"",
            "zerolinecolor":"white"
           }
          },
          "shapedefaults":{
           "line":{
            "color":"#2a3f5f"
           }
          },
          "ternary":{
           "aaxis":{
            "gridcolor":"white",
            "linecolor":"white",
            "ticks":""
           },
           "baxis":{
            "gridcolor":"white",
            "linecolor":"white",
            "ticks":""
           },
           "bgcolor":"#E5ECF6",
           "caxis":{
            "gridcolor":"white",
            "linecolor":"white",
            "ticks":""
           }
          },
          "title":{
           "x":0.05
          },
          "xaxis":{
           "automargin":true,
           "gridcolor":"white",
           "linecolor":"white",
           "ticks":"",
           "title":{
            "standoff":15
           },
           "zerolinecolor":"white",
           "zerolinewidth":2
          },
          "yaxis":{
           "automargin":true,
           "gridcolor":"white",
           "linecolor":"white",
           "ticks":"",
           "title":{
            "standoff":15
           },
           "zerolinecolor":"white",
           "zerolinewidth":2
          }
         }
        },
        "xaxis":{
         "anchor":"y",
         "domain":[
          0,
          1
         ],
         "title":{
          "text":"proportion"
         },
         "showgrid":true,
         "ticks":"outside",
         "tickson":"boundaries"
        },
        "yaxis":{
         "anchor":"x",
         "domain":[
          0,
          1
         ],
         "title":{
          "text":"Category"
         }
        },
        "legend":{
         "title":{
          "text":"Sentiment"
         },
         "tracegroupgap":0
        },
        "margin":{
         "t":60
        },
        "barmode":"stack",
        "title":{
         "text":"Sentiment Proportion Along Category"
        }
       },
       "config":{
        "plotlyServerURL":"https:\/\/plot.ly"
       }
      }
     },
     "metadata":{
      
     },
     "output_type":"display_data"
    }
   ],
   "metadata":{
    "datalore":{
     "node_id":"UwR9lO8qKxzD6X5k0iCKh6",
     "type":"CODE",
     "hide_input_from_viewers":false,
     "hide_output_from_viewers":false
    }
   }
  },
  {
   "cell_type":"markdown",
   "source":[
    "Education, comminucation, and Lifestyle applications usually get positive response, Games get most negative comments as compared to other applications"
   ],
   "attachments":{
    
   },
   "metadata":{
    "datalore":{
     "node_id":"oHHbt1d4V92SbweAx7v4Gb",
     "type":"MD",
     "hide_input_from_viewers":false,
     "hide_output_from_viewers":false
    }
   }
  },
  {
   "cell_type":"markdown",
   "source":[
    "Do the above same work to find out the effect of sentiments on type of application"
   ],
   "attachments":{
    
   },
   "metadata":{
    "datalore":{
     "node_id":"gTsLtawcmEA7et7GW9zWdJ",
     "type":"MD",
     "hide_input_from_viewers":false,
     "hide_output_from_viewers":false
    }
   }
  },
  {
   "cell_type":"code",
   "source":[
    "# group applications on the basis of their type (paid, free) and then sentiments\n",
    "\n",
    "type_sent = app_df.groupby('Type')['Sentiment'].value_counts(normalize=True).rename('percent').reset_index()\n",
    "type_sent"
   ],
   "execution_count":59,
   "outputs":[
    {
     "data":{
      "text\/html":[
       "<div>\n",
       "<style scoped>\n",
       "    .dataframe tbody tr th:only-of-type {\n",
       "        vertical-align: middle;\n",
       "    }\n",
       "\n",
       "    .dataframe tbody tr th {\n",
       "        vertical-align: top;\n",
       "    }\n",
       "\n",
       "    .dataframe thead th {\n",
       "        text-align: right;\n",
       "    }\n",
       "<\/style>\n",
       "<table border=\"1\" class=\"dataframe\">\n",
       "  <thead>\n",
       "    <tr style=\"text-align: right;\">\n",
       "      <th><\/th>\n",
       "      <th>Type<\/th>\n",
       "      <th>Sentiment<\/th>\n",
       "      <th>percent<\/th>\n",
       "    <\/tr>\n",
       "  <\/thead>\n",
       "  <tbody>\n",
       "    <tr>\n",
       "      <th>0<\/th>\n",
       "      <td>Free<\/td>\n",
       "      <td>Positive<\/td>\n",
       "      <td>0.634500<\/td>\n",
       "    <\/tr>\n",
       "    <tr>\n",
       "      <th>1<\/th>\n",
       "      <td>Free<\/td>\n",
       "      <td>Negative<\/td>\n",
       "      <td>0.239564<\/td>\n",
       "    <\/tr>\n",
       "    <tr>\n",
       "      <th>2<\/th>\n",
       "      <td>Free<\/td>\n",
       "      <td>Neutral<\/td>\n",
       "      <td>0.125936<\/td>\n",
       "    <\/tr>\n",
       "    <tr>\n",
       "      <th>3<\/th>\n",
       "      <td>Paid<\/td>\n",
       "      <td>Positive<\/td>\n",
       "      <td>0.756757<\/td>\n",
       "    <\/tr>\n",
       "    <tr>\n",
       "      <th>4<\/th>\n",
       "      <td>Paid<\/td>\n",
       "      <td>Negative<\/td>\n",
       "      <td>0.172973<\/td>\n",
       "    <\/tr>\n",
       "    <tr>\n",
       "      <th>5<\/th>\n",
       "      <td>Paid<\/td>\n",
       "      <td>Neutral<\/td>\n",
       "      <td>0.070270<\/td>\n",
       "    <\/tr>\n",
       "  <\/tbody>\n",
       "<\/table>\n",
       "<\/div>"
      ]
     },
     "metadata":{
      
     },
     "output_type":"display_data"
    }
   ],
   "metadata":{
    "datalore":{
     "node_id":"4MSGxw5NUYBIP1fNfp3b7O",
     "type":"CODE",
     "hide_input_from_viewers":false,
     "hide_output_from_viewers":false
    }
   }
  },
  {
   "cell_type":"code",
   "source":[
    "# use plotly to plot bar plots\n",
    "\n",
    "fig = px.bar(type_sent, x=\"Type\", y=\"percent\", color=\"Sentiment\",\n",
    "             color_discrete_sequence=px.colors.qualitative.Antique, hover_name=\"Sentiment\",\n",
    "             category_orders={ \"Sentiment\": [\"Positive\", \"Negative\", \"Neutral\"]})\n",
    "\n",
    "fig.update_layout(barmode='stack', title=\"Sentiment Proportion Along Type\")\n",
    "fig.update_xaxes(showgrid=True, ticks=\"outside\", tickson=\"boundaries\")\n",
    "\n",
    "fig.show()"
   ],
   "execution_count":60,
   "outputs":[
    {
     "data":{
      "application\/vnd.plotly.v1+json":{
       "data":[
        {
         "alignmentgroup":"True",
         "hovertemplate":"<b>%{hovertext}<\/b><br><br>Sentiment=Positive<br>Type=%{x}<br>percent=%{y}<extra><\/extra>",
         "hovertext":[
          "Positive",
          "Positive"
         ],
         "legendgroup":"Positive",
         "marker":{
          "color":"rgb(133, 92, 117)",
          "pattern":{
           "shape":""
          }
         },
         "name":"Positive",
         "offsetgroup":"Positive",
         "orientation":"v",
         "showlegend":true,
         "textposition":"auto",
         "x":[
          "Free",
          "Paid"
         ],
         "xaxis":"x",
         "y":[
          0.6345001498052532,
          0.7567567567567568
         ],
         "yaxis":"y",
         "type":"bar"
        },
        {
         "alignmentgroup":"True",
         "hovertemplate":"<b>%{hovertext}<\/b><br><br>Sentiment=Negative<br>Type=%{x}<br>percent=%{y}<extra><\/extra>",
         "hovertext":[
          "Negative",
          "Negative"
         ],
         "legendgroup":"Negative",
         "marker":{
          "color":"rgb(217, 175, 107)",
          "pattern":{
           "shape":""
          }
         },
         "name":"Negative",
         "offsetgroup":"Negative",
         "orientation":"v",
         "showlegend":true,
         "textposition":"auto",
         "x":[
          "Free",
          "Paid"
         ],
         "xaxis":"x",
         "y":[
          0.23956356736242884,
          0.17297297297297298
         ],
         "yaxis":"y",
         "type":"bar"
        },
        {
         "alignmentgroup":"True",
         "hovertemplate":"<b>%{hovertext}<\/b><br><br>Sentiment=Neutral<br>Type=%{x}<br>percent=%{y}<extra><\/extra>",
         "hovertext":[
          "Neutral",
          "Neutral"
         ],
         "legendgroup":"Neutral",
         "marker":{
          "color":"rgb(175, 100, 88)",
          "pattern":{
           "shape":""
          }
         },
         "name":"Neutral",
         "offsetgroup":"Neutral",
         "orientation":"v",
         "showlegend":true,
         "textposition":"auto",
         "x":[
          "Free",
          "Paid"
         ],
         "xaxis":"x",
         "y":[
          0.12593628283231798,
          0.07027027027027027
         ],
         "yaxis":"y",
         "type":"bar"
        }
       ],
       "layout":{
        "template":{
         "data":{
          "bar":[
           {
            "error_x":{
             "color":"#2a3f5f"
            },
            "error_y":{
             "color":"#2a3f5f"
            },
            "marker":{
             "line":{
              "color":"#E5ECF6",
              "width":0.5
             },
             "pattern":{
              "fillmode":"overlay",
              "size":10,
              "solidity":0.2
             }
            },
            "type":"bar"
           }
          ],
          "barpolar":[
           {
            "marker":{
             "line":{
              "color":"#E5ECF6",
              "width":0.5
             },
             "pattern":{
              "fillmode":"overlay",
              "size":10,
              "solidity":0.2
             }
            },
            "type":"barpolar"
           }
          ],
          "carpet":[
           {
            "aaxis":{
             "endlinecolor":"#2a3f5f",
             "gridcolor":"white",
             "linecolor":"white",
             "minorgridcolor":"white",
             "startlinecolor":"#2a3f5f"
            },
            "baxis":{
             "endlinecolor":"#2a3f5f",
             "gridcolor":"white",
             "linecolor":"white",
             "minorgridcolor":"white",
             "startlinecolor":"#2a3f5f"
            },
            "type":"carpet"
           }
          ],
          "choropleth":[
           {
            "colorbar":{
             "outlinewidth":0,
             "ticks":""
            },
            "type":"choropleth"
           }
          ],
          "contour":[
           {
            "colorbar":{
             "outlinewidth":0,
             "ticks":""
            },
            "colorscale":[
             [
              0,
              "#0d0887"
             ],
             [
              0.1111111111111111,
              "#46039f"
             ],
             [
              0.2222222222222222,
              "#7201a8"
             ],
             [
              0.3333333333333333,
              "#9c179e"
             ],
             [
              0.4444444444444444,
              "#bd3786"
             ],
             [
              0.5555555555555556,
              "#d8576b"
             ],
             [
              0.6666666666666666,
              "#ed7953"
             ],
             [
              0.7777777777777778,
              "#fb9f3a"
             ],
             [
              0.8888888888888888,
              "#fdca26"
             ],
             [
              1,
              "#f0f921"
             ]
            ],
            "type":"contour"
           }
          ],
          "contourcarpet":[
           {
            "colorbar":{
             "outlinewidth":0,
             "ticks":""
            },
            "type":"contourcarpet"
           }
          ],
          "heatmap":[
           {
            "colorbar":{
             "outlinewidth":0,
             "ticks":""
            },
            "colorscale":[
             [
              0,
              "#0d0887"
             ],
             [
              0.1111111111111111,
              "#46039f"
             ],
             [
              0.2222222222222222,
              "#7201a8"
             ],
             [
              0.3333333333333333,
              "#9c179e"
             ],
             [
              0.4444444444444444,
              "#bd3786"
             ],
             [
              0.5555555555555556,
              "#d8576b"
             ],
             [
              0.6666666666666666,
              "#ed7953"
             ],
             [
              0.7777777777777778,
              "#fb9f3a"
             ],
             [
              0.8888888888888888,
              "#fdca26"
             ],
             [
              1,
              "#f0f921"
             ]
            ],
            "type":"heatmap"
           }
          ],
          "heatmapgl":[
           {
            "colorbar":{
             "outlinewidth":0,
             "ticks":""
            },
            "colorscale":[
             [
              0,
              "#0d0887"
             ],
             [
              0.1111111111111111,
              "#46039f"
             ],
             [
              0.2222222222222222,
              "#7201a8"
             ],
             [
              0.3333333333333333,
              "#9c179e"
             ],
             [
              0.4444444444444444,
              "#bd3786"
             ],
             [
              0.5555555555555556,
              "#d8576b"
             ],
             [
              0.6666666666666666,
              "#ed7953"
             ],
             [
              0.7777777777777778,
              "#fb9f3a"
             ],
             [
              0.8888888888888888,
              "#fdca26"
             ],
             [
              1,
              "#f0f921"
             ]
            ],
            "type":"heatmapgl"
           }
          ],
          "histogram":[
           {
            "marker":{
             "pattern":{
              "fillmode":"overlay",
              "size":10,
              "solidity":0.2
             }
            },
            "type":"histogram"
           }
          ],
          "histogram2d":[
           {
            "colorbar":{
             "outlinewidth":0,
             "ticks":""
            },
            "colorscale":[
             [
              0,
              "#0d0887"
             ],
             [
              0.1111111111111111,
              "#46039f"
             ],
             [
              0.2222222222222222,
              "#7201a8"
             ],
             [
              0.3333333333333333,
              "#9c179e"
             ],
             [
              0.4444444444444444,
              "#bd3786"
             ],
             [
              0.5555555555555556,
              "#d8576b"
             ],
             [
              0.6666666666666666,
              "#ed7953"
             ],
             [
              0.7777777777777778,
              "#fb9f3a"
             ],
             [
              0.8888888888888888,
              "#fdca26"
             ],
             [
              1,
              "#f0f921"
             ]
            ],
            "type":"histogram2d"
           }
          ],
          "histogram2dcontour":[
           {
            "colorbar":{
             "outlinewidth":0,
             "ticks":""
            },
            "colorscale":[
             [
              0,
              "#0d0887"
             ],
             [
              0.1111111111111111,
              "#46039f"
             ],
             [
              0.2222222222222222,
              "#7201a8"
             ],
             [
              0.3333333333333333,
              "#9c179e"
             ],
             [
              0.4444444444444444,
              "#bd3786"
             ],
             [
              0.5555555555555556,
              "#d8576b"
             ],
             [
              0.6666666666666666,
              "#ed7953"
             ],
             [
              0.7777777777777778,
              "#fb9f3a"
             ],
             [
              0.8888888888888888,
              "#fdca26"
             ],
             [
              1,
              "#f0f921"
             ]
            ],
            "type":"histogram2dcontour"
           }
          ],
          "mesh3d":[
           {
            "colorbar":{
             "outlinewidth":0,
             "ticks":""
            },
            "type":"mesh3d"
           }
          ],
          "parcoords":[
           {
            "line":{
             "colorbar":{
              "outlinewidth":0,
              "ticks":""
             }
            },
            "type":"parcoords"
           }
          ],
          "pie":[
           {
            "automargin":true,
            "type":"pie"
           }
          ],
          "scatter":[
           {
            "marker":{
             "colorbar":{
              "outlinewidth":0,
              "ticks":""
             }
            },
            "type":"scatter"
           }
          ],
          "scatter3d":[
           {
            "line":{
             "colorbar":{
              "outlinewidth":0,
              "ticks":""
             }
            },
            "marker":{
             "colorbar":{
              "outlinewidth":0,
              "ticks":""
             }
            },
            "type":"scatter3d"
           }
          ],
          "scattercarpet":[
           {
            "marker":{
             "colorbar":{
              "outlinewidth":0,
              "ticks":""
             }
            },
            "type":"scattercarpet"
           }
          ],
          "scattergeo":[
           {
            "marker":{
             "colorbar":{
              "outlinewidth":0,
              "ticks":""
             }
            },
            "type":"scattergeo"
           }
          ],
          "scattergl":[
           {
            "marker":{
             "colorbar":{
              "outlinewidth":0,
              "ticks":""
             }
            },
            "type":"scattergl"
           }
          ],
          "scattermapbox":[
           {
            "marker":{
             "colorbar":{
              "outlinewidth":0,
              "ticks":""
             }
            },
            "type":"scattermapbox"
           }
          ],
          "scatterpolar":[
           {
            "marker":{
             "colorbar":{
              "outlinewidth":0,
              "ticks":""
             }
            },
            "type":"scatterpolar"
           }
          ],
          "scatterpolargl":[
           {
            "marker":{
             "colorbar":{
              "outlinewidth":0,
              "ticks":""
             }
            },
            "type":"scatterpolargl"
           }
          ],
          "scatterternary":[
           {
            "marker":{
             "colorbar":{
              "outlinewidth":0,
              "ticks":""
             }
            },
            "type":"scatterternary"
           }
          ],
          "surface":[
           {
            "colorbar":{
             "outlinewidth":0,
             "ticks":""
            },
            "colorscale":[
             [
              0,
              "#0d0887"
             ],
             [
              0.1111111111111111,
              "#46039f"
             ],
             [
              0.2222222222222222,
              "#7201a8"
             ],
             [
              0.3333333333333333,
              "#9c179e"
             ],
             [
              0.4444444444444444,
              "#bd3786"
             ],
             [
              0.5555555555555556,
              "#d8576b"
             ],
             [
              0.6666666666666666,
              "#ed7953"
             ],
             [
              0.7777777777777778,
              "#fb9f3a"
             ],
             [
              0.8888888888888888,
              "#fdca26"
             ],
             [
              1,
              "#f0f921"
             ]
            ],
            "type":"surface"
           }
          ],
          "table":[
           {
            "cells":{
             "fill":{
              "color":"#EBF0F8"
             },
             "line":{
              "color":"white"
             }
            },
            "header":{
             "fill":{
              "color":"#C8D4E3"
             },
             "line":{
              "color":"white"
             }
            },
            "type":"table"
           }
          ]
         },
         "layout":{
          "annotationdefaults":{
           "arrowcolor":"#2a3f5f",
           "arrowhead":0,
           "arrowwidth":1
          },
          "autotypenumbers":"strict",
          "coloraxis":{
           "colorbar":{
            "outlinewidth":0,
            "ticks":""
           }
          },
          "colorscale":{
           "diverging":[
            [
             0,
             "#8e0152"
            ],
            [
             0.1,
             "#c51b7d"
            ],
            [
             0.2,
             "#de77ae"
            ],
            [
             0.3,
             "#f1b6da"
            ],
            [
             0.4,
             "#fde0ef"
            ],
            [
             0.5,
             "#f7f7f7"
            ],
            [
             0.6,
             "#e6f5d0"
            ],
            [
             0.7,
             "#b8e186"
            ],
            [
             0.8,
             "#7fbc41"
            ],
            [
             0.9,
             "#4d9221"
            ],
            [
             1,
             "#276419"
            ]
           ],
           "sequential":[
            [
             0,
             "#0d0887"
            ],
            [
             0.1111111111111111,
             "#46039f"
            ],
            [
             0.2222222222222222,
             "#7201a8"
            ],
            [
             0.3333333333333333,
             "#9c179e"
            ],
            [
             0.4444444444444444,
             "#bd3786"
            ],
            [
             0.5555555555555556,
             "#d8576b"
            ],
            [
             0.6666666666666666,
             "#ed7953"
            ],
            [
             0.7777777777777778,
             "#fb9f3a"
            ],
            [
             0.8888888888888888,
             "#fdca26"
            ],
            [
             1,
             "#f0f921"
            ]
           ],
           "sequentialminus":[
            [
             0,
             "#0d0887"
            ],
            [
             0.1111111111111111,
             "#46039f"
            ],
            [
             0.2222222222222222,
             "#7201a8"
            ],
            [
             0.3333333333333333,
             "#9c179e"
            ],
            [
             0.4444444444444444,
             "#bd3786"
            ],
            [
             0.5555555555555556,
             "#d8576b"
            ],
            [
             0.6666666666666666,
             "#ed7953"
            ],
            [
             0.7777777777777778,
             "#fb9f3a"
            ],
            [
             0.8888888888888888,
             "#fdca26"
            ],
            [
             1,
             "#f0f921"
            ]
           ]
          },
          "colorway":[
           "#636efa",
           "#EF553B",
           "#00cc96",
           "#ab63fa",
           "#FFA15A",
           "#19d3f3",
           "#FF6692",
           "#B6E880",
           "#FF97FF",
           "#FECB52"
          ],
          "font":{
           "color":"#2a3f5f"
          },
          "geo":{
           "bgcolor":"white",
           "lakecolor":"white",
           "landcolor":"#E5ECF6",
           "showlakes":true,
           "showland":true,
           "subunitcolor":"white"
          },
          "hoverlabel":{
           "align":"left"
          },
          "hovermode":"closest",
          "mapbox":{
           "style":"light"
          },
          "paper_bgcolor":"white",
          "plot_bgcolor":"#E5ECF6",
          "polar":{
           "angularaxis":{
            "gridcolor":"white",
            "linecolor":"white",
            "ticks":""
           },
           "bgcolor":"#E5ECF6",
           "radialaxis":{
            "gridcolor":"white",
            "linecolor":"white",
            "ticks":""
           }
          },
          "scene":{
           "xaxis":{
            "backgroundcolor":"#E5ECF6",
            "gridcolor":"white",
            "gridwidth":2,
            "linecolor":"white",
            "showbackground":true,
            "ticks":"",
            "zerolinecolor":"white"
           },
           "yaxis":{
            "backgroundcolor":"#E5ECF6",
            "gridcolor":"white",
            "gridwidth":2,
            "linecolor":"white",
            "showbackground":true,
            "ticks":"",
            "zerolinecolor":"white"
           },
           "zaxis":{
            "backgroundcolor":"#E5ECF6",
            "gridcolor":"white",
            "gridwidth":2,
            "linecolor":"white",
            "showbackground":true,
            "ticks":"",
            "zerolinecolor":"white"
           }
          },
          "shapedefaults":{
           "line":{
            "color":"#2a3f5f"
           }
          },
          "ternary":{
           "aaxis":{
            "gridcolor":"white",
            "linecolor":"white",
            "ticks":""
           },
           "baxis":{
            "gridcolor":"white",
            "linecolor":"white",
            "ticks":""
           },
           "bgcolor":"#E5ECF6",
           "caxis":{
            "gridcolor":"white",
            "linecolor":"white",
            "ticks":""
           }
          },
          "title":{
           "x":0.05
          },
          "xaxis":{
           "automargin":true,
           "gridcolor":"white",
           "linecolor":"white",
           "ticks":"",
           "title":{
            "standoff":15
           },
           "zerolinecolor":"white",
           "zerolinewidth":2
          },
          "yaxis":{
           "automargin":true,
           "gridcolor":"white",
           "linecolor":"white",
           "ticks":"",
           "title":{
            "standoff":15
           },
           "zerolinecolor":"white",
           "zerolinewidth":2
          }
         }
        },
        "xaxis":{
         "anchor":"y",
         "domain":[
          0,
          1
         ],
         "title":{
          "text":"Type"
         },
         "showgrid":true,
         "ticks":"outside",
         "tickson":"boundaries"
        },
        "yaxis":{
         "anchor":"x",
         "domain":[
          0,
          1
         ],
         "title":{
          "text":"percent"
         }
        },
        "legend":{
         "title":{
          "text":"Sentiment"
         },
         "tracegroupgap":0
        },
        "margin":{
         "t":60
        },
        "barmode":"stack",
        "title":{
         "text":"Sentiment Proportion Along Type"
        }
       },
       "config":{
        "plotlyServerURL":"https:\/\/plot.ly"
       }
      }
     },
     "metadata":{
      
     },
     "output_type":"display_data"
    }
   ],
   "metadata":{
    "datalore":{
     "node_id":"Hgx7WWl8agv51R5lCnLvJa",
     "type":"CODE",
     "hide_input_from_viewers":false,
     "hide_output_from_viewers":false
    }
   }
  },
  {
   "cell_type":"markdown",
   "source":[
    "By plotting Sentiment proportion of Paid VS Free apps, we observe that free apps receive a lot of harsh comments, as indicated by the graph. Reviews for paid apps appear never to be extremely negative. This may indicate something about app quality, i.e., paid apps being of higher quality than free apps on average."
   ],
   "attachments":{
    
   },
   "metadata":{
    "datalore":{
     "node_id":"9o80C3aNyt8kgd4Jq23RzQ",
     "type":"MD",
     "hide_input_from_viewers":false,
     "hide_output_from_viewers":false
    }
   }
  },
  {
   "cell_type":"markdown",
   "source":[
    "In this notebook, we analyzed over ten thousand apps from the Google Play Store. We can use our findings to inform our decisions should we ever wish to create an app ourselves."
   ],
   "attachments":{
    
   },
   "metadata":{
    "datalore":{
     "node_id":"cV0lBzLPUwCjiHSctfvMmB",
     "type":"MD",
     "hide_input_from_viewers":false,
     "hide_output_from_viewers":false
    }
   }
  },
  {
   "cell_type":"code",
   "source":[
    
   ],
   "execution_count":null,
   "outputs":[
    
   ],
   "metadata":{
    "datalore":{
     "node_id":"hGlwG6CUzHox1sW8hoyNMG",
     "type":"CODE",
     "hide_input_from_viewers":false,
     "hide_output_from_viewers":false
    }
   }
  }
 ],
 "metadata":{
  "kernelspec":{
   "display_name":"Python",
   "language":"python",
   "name":"python"
  },
  "datalore":{
   "version":1,
   "computation_mode":"JUPYTER",
   "package_manager":"pip",
   "base_environment":"default",
   "packages":[
    
   ]
  }
 },
 "nbformat":4,
 "nbformat_minor":4
}